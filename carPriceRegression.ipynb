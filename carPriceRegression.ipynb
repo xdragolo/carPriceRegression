{
 "cells": [
  {
   "cell_type": "code",
   "execution_count": 2,
   "metadata": {
    "pycharm": {
     "is_executing": false,
     "name": "#%%\n"
    }
   },
   "outputs": [],
   "source": [
    "import numpy as np\n",
    "import pandas as pd\n",
    "import matplotlib.pyplot as plt\n",
    "import seaborn as sns\n",
    "def numerizeClass(column):\n",
    "    unq = df[column].dropna().unique()\n",
    "    #Zmenil som 0 na 1\n",
    "    cnt = 1\n",
    "    for u in unq:\n",
    "        # idx = df[df[column] == u].index.tolist()\n",
    "        df[column].replace(u,cnt, inplace = True)\n",
    "        # print(df[column])\n",
    "        cnt +=1\n",
    "    "
   ]
  },
  {
   "cell_type": "markdown",
   "metadata": {},
   "source": [
    "# Data introduction"
   ]
  },
  {
   "cell_type": "code",
   "execution_count": 3,
   "metadata": {
    "pycharm": {
     "is_executing": false,
     "name": "#%%\n"
    }
   },
   "outputs": [
    {
     "data": {
      "text/html": [
       "<div>\n",
       "<style scoped>\n",
       "    .dataframe tbody tr th:only-of-type {\n",
       "        vertical-align: middle;\n",
       "    }\n",
       "\n",
       "    .dataframe tbody tr th {\n",
       "        vertical-align: top;\n",
       "    }\n",
       "\n",
       "    .dataframe thead th {\n",
       "        text-align: right;\n",
       "    }\n",
       "</style>\n",
       "<table border=\"1\" class=\"dataframe\">\n",
       "  <thead>\n",
       "    <tr style=\"text-align: right;\">\n",
       "      <th></th>\n",
       "      <th>offerType</th>\n",
       "      <th>price</th>\n",
       "      <th>abtest</th>\n",
       "      <th>vehicleType</th>\n",
       "      <th>yearOfRegistration</th>\n",
       "      <th>gearbox</th>\n",
       "      <th>powerPS</th>\n",
       "      <th>model</th>\n",
       "      <th>kilometer</th>\n",
       "      <th>monthOfRegistration</th>\n",
       "      <th>fuelType</th>\n",
       "      <th>brand</th>\n",
       "      <th>notRepairedDamage</th>\n",
       "    </tr>\n",
       "  </thead>\n",
       "  <tbody>\n",
       "    <tr>\n",
       "      <th>0</th>\n",
       "      <td>Angebot</td>\n",
       "      <td>480</td>\n",
       "      <td>test</td>\n",
       "      <td>NaN</td>\n",
       "      <td>1993</td>\n",
       "      <td>manuell</td>\n",
       "      <td>0</td>\n",
       "      <td>golf</td>\n",
       "      <td>150000</td>\n",
       "      <td>0</td>\n",
       "      <td>benzin</td>\n",
       "      <td>volkswagen</td>\n",
       "      <td>NaN</td>\n",
       "    </tr>\n",
       "    <tr>\n",
       "      <th>1</th>\n",
       "      <td>Angebot</td>\n",
       "      <td>18300</td>\n",
       "      <td>test</td>\n",
       "      <td>coupe</td>\n",
       "      <td>2011</td>\n",
       "      <td>manuell</td>\n",
       "      <td>190</td>\n",
       "      <td>NaN</td>\n",
       "      <td>125000</td>\n",
       "      <td>5</td>\n",
       "      <td>diesel</td>\n",
       "      <td>audi</td>\n",
       "      <td>ja</td>\n",
       "    </tr>\n",
       "    <tr>\n",
       "      <th>2</th>\n",
       "      <td>Angebot</td>\n",
       "      <td>9800</td>\n",
       "      <td>test</td>\n",
       "      <td>suv</td>\n",
       "      <td>2004</td>\n",
       "      <td>automatik</td>\n",
       "      <td>163</td>\n",
       "      <td>grand</td>\n",
       "      <td>125000</td>\n",
       "      <td>8</td>\n",
       "      <td>diesel</td>\n",
       "      <td>jeep</td>\n",
       "      <td>NaN</td>\n",
       "    </tr>\n",
       "    <tr>\n",
       "      <th>3</th>\n",
       "      <td>Angebot</td>\n",
       "      <td>1500</td>\n",
       "      <td>test</td>\n",
       "      <td>kleinwagen</td>\n",
       "      <td>2001</td>\n",
       "      <td>manuell</td>\n",
       "      <td>75</td>\n",
       "      <td>golf</td>\n",
       "      <td>150000</td>\n",
       "      <td>6</td>\n",
       "      <td>benzin</td>\n",
       "      <td>volkswagen</td>\n",
       "      <td>nein</td>\n",
       "    </tr>\n",
       "    <tr>\n",
       "      <th>4</th>\n",
       "      <td>Angebot</td>\n",
       "      <td>3600</td>\n",
       "      <td>test</td>\n",
       "      <td>kleinwagen</td>\n",
       "      <td>2008</td>\n",
       "      <td>manuell</td>\n",
       "      <td>69</td>\n",
       "      <td>fabia</td>\n",
       "      <td>90000</td>\n",
       "      <td>7</td>\n",
       "      <td>diesel</td>\n",
       "      <td>skoda</td>\n",
       "      <td>nein</td>\n",
       "    </tr>\n",
       "  </tbody>\n",
       "</table>\n",
       "</div>"
      ],
      "text/plain": [
       "  offerType  price abtest vehicleType  yearOfRegistration    gearbox  powerPS  \\\n",
       "0   Angebot    480   test         NaN                1993    manuell        0   \n",
       "1   Angebot  18300   test       coupe                2011    manuell      190   \n",
       "2   Angebot   9800   test         suv                2004  automatik      163   \n",
       "3   Angebot   1500   test  kleinwagen                2001    manuell       75   \n",
       "4   Angebot   3600   test  kleinwagen                2008    manuell       69   \n",
       "\n",
       "   model  kilometer  monthOfRegistration fuelType       brand  \\\n",
       "0   golf     150000                    0   benzin  volkswagen   \n",
       "1    NaN     125000                    5   diesel        audi   \n",
       "2  grand     125000                    8   diesel        jeep   \n",
       "3   golf     150000                    6   benzin  volkswagen   \n",
       "4  fabia      90000                    7   diesel       skoda   \n",
       "\n",
       "  notRepairedDamage  \n",
       "0               NaN  \n",
       "1                ja  \n",
       "2               NaN  \n",
       "3              nein  \n",
       "4              nein  "
      ]
     },
     "execution_count": 3,
     "metadata": {},
     "output_type": "execute_result"
    }
   ],
   "source": [
    "import pandas as pd\n",
    "import re\n",
    "import numpy as np\n",
    "df = pd.read_csv('autos.csv',header=0,encoding='iso8859_2')\n",
    "\n",
    "df['seller'].value_counts()\n",
    "# mazu nepotrebne sloupce - nazev inzeratu, datum stazeni, pocet fotek = vzdy 0\n",
    "# druheho typu je tak malo ze to nema smysl resit\n",
    "df = df.drop(['name','dateCrawled','nrOfPictures','seller',\"dateCreated\",\"postalCode\", \"lastSeen\"],axis=1)\n",
    "df.head()\n"
   ]
  },
  {
   "cell_type": "markdown",
   "metadata": {},
   "source": [
    "## Categorical data handeling"
   ]
  },
  {
   "cell_type": "code",
   "execution_count": 4,
   "metadata": {
    "pycharm": {
     "is_executing": false,
     "name": "#%%\n"
    }
   },
   "outputs": [
    {
     "data": {
      "text/html": [
       "<div>\n",
       "<style scoped>\n",
       "    .dataframe tbody tr th:only-of-type {\n",
       "        vertical-align: middle;\n",
       "    }\n",
       "\n",
       "    .dataframe tbody tr th {\n",
       "        vertical-align: top;\n",
       "    }\n",
       "\n",
       "    .dataframe thead th {\n",
       "        text-align: right;\n",
       "    }\n",
       "</style>\n",
       "<table border=\"1\" class=\"dataframe\">\n",
       "  <thead>\n",
       "    <tr style=\"text-align: right;\">\n",
       "      <th></th>\n",
       "      <th>offerType</th>\n",
       "      <th>price</th>\n",
       "      <th>abtest</th>\n",
       "      <th>vehicleType</th>\n",
       "      <th>yearOfRegistration</th>\n",
       "      <th>gearbox</th>\n",
       "      <th>powerPS</th>\n",
       "      <th>model</th>\n",
       "      <th>kilometer</th>\n",
       "      <th>monthOfRegistration</th>\n",
       "      <th>fuelType</th>\n",
       "      <th>brand</th>\n",
       "      <th>notRepairedDamage</th>\n",
       "    </tr>\n",
       "  </thead>\n",
       "  <tbody>\n",
       "    <tr>\n",
       "      <th>0</th>\n",
       "      <td>1</td>\n",
       "      <td>480</td>\n",
       "      <td>1</td>\n",
       "      <td>NaN</td>\n",
       "      <td>1993</td>\n",
       "      <td>1.0</td>\n",
       "      <td>0</td>\n",
       "      <td>1.0</td>\n",
       "      <td>150000</td>\n",
       "      <td>0</td>\n",
       "      <td>1.0</td>\n",
       "      <td>1</td>\n",
       "      <td>NaN</td>\n",
       "    </tr>\n",
       "    <tr>\n",
       "      <th>1</th>\n",
       "      <td>1</td>\n",
       "      <td>18300</td>\n",
       "      <td>1</td>\n",
       "      <td>1.0</td>\n",
       "      <td>2011</td>\n",
       "      <td>1.0</td>\n",
       "      <td>190</td>\n",
       "      <td>NaN</td>\n",
       "      <td>125000</td>\n",
       "      <td>5</td>\n",
       "      <td>2.0</td>\n",
       "      <td>2</td>\n",
       "      <td>1.0</td>\n",
       "    </tr>\n",
       "    <tr>\n",
       "      <th>2</th>\n",
       "      <td>1</td>\n",
       "      <td>9800</td>\n",
       "      <td>1</td>\n",
       "      <td>2.0</td>\n",
       "      <td>2004</td>\n",
       "      <td>2.0</td>\n",
       "      <td>163</td>\n",
       "      <td>2.0</td>\n",
       "      <td>125000</td>\n",
       "      <td>8</td>\n",
       "      <td>2.0</td>\n",
       "      <td>3</td>\n",
       "      <td>NaN</td>\n",
       "    </tr>\n",
       "    <tr>\n",
       "      <th>3</th>\n",
       "      <td>1</td>\n",
       "      <td>1500</td>\n",
       "      <td>1</td>\n",
       "      <td>3.0</td>\n",
       "      <td>2001</td>\n",
       "      <td>1.0</td>\n",
       "      <td>75</td>\n",
       "      <td>1.0</td>\n",
       "      <td>150000</td>\n",
       "      <td>6</td>\n",
       "      <td>1.0</td>\n",
       "      <td>1</td>\n",
       "      <td>2.0</td>\n",
       "    </tr>\n",
       "    <tr>\n",
       "      <th>4</th>\n",
       "      <td>1</td>\n",
       "      <td>3600</td>\n",
       "      <td>1</td>\n",
       "      <td>3.0</td>\n",
       "      <td>2008</td>\n",
       "      <td>1.0</td>\n",
       "      <td>69</td>\n",
       "      <td>3.0</td>\n",
       "      <td>90000</td>\n",
       "      <td>7</td>\n",
       "      <td>2.0</td>\n",
       "      <td>4</td>\n",
       "      <td>2.0</td>\n",
       "    </tr>\n",
       "  </tbody>\n",
       "</table>\n",
       "</div>"
      ],
      "text/plain": [
       "   offerType  price  abtest  vehicleType  yearOfRegistration  gearbox  \\\n",
       "0          1    480       1          NaN                1993      1.0   \n",
       "1          1  18300       1          1.0                2011      1.0   \n",
       "2          1   9800       1          2.0                2004      2.0   \n",
       "3          1   1500       1          3.0                2001      1.0   \n",
       "4          1   3600       1          3.0                2008      1.0   \n",
       "\n",
       "   powerPS  model  kilometer  monthOfRegistration  fuelType  brand  \\\n",
       "0        0    1.0     150000                    0       1.0      1   \n",
       "1      190    NaN     125000                    5       2.0      2   \n",
       "2      163    2.0     125000                    8       2.0      3   \n",
       "3       75    1.0     150000                    6       1.0      1   \n",
       "4       69    3.0      90000                    7       2.0      4   \n",
       "\n",
       "   notRepairedDamage  \n",
       "0                NaN  \n",
       "1                1.0  \n",
       "2                NaN  \n",
       "3                2.0  \n",
       "4                2.0  "
      ]
     },
     "execution_count": 4,
     "metadata": {},
     "output_type": "execute_result"
    }
   ],
   "source": [
    "nonnumericColumns = list(df.select_dtypes(include=['object']).columns)\n",
    "dateColumns = [c for c in nonnumericColumns if re.match('date|month|lastSeen',c)]\n",
    "groups = set(nonnumericColumns) -  set(dateColumns)\n",
    "# print(groups)\n",
    "# integer encoding\n",
    "for g in list(groups):\n",
    "    numerizeClass(g)\n",
    "\n",
    "# 2016-03-24 11:52:17\n",
    "for c in dateColumns:\n",
    "    # df[c].str.replace(\"-\",\"\").astype(int)\n",
    "    # df[\"Date\"] = pd.to_datetime(df[\"Date\"]).dt.strftime(\"%Y%m%d\")\n",
    "    df[c] = pd.to_datetime(df[c])\n",
    "df.head()\n"
   ]
  },
  {
   "cell_type": "markdown",
   "metadata": {},
   "source": [
    "## Nan data removal"
   ]
  },
  {
   "cell_type": "code",
   "execution_count": 5,
   "metadata": {
    "pycharm": {
     "is_executing": false
    }
   },
   "outputs": [
    {
     "data": {
      "text/plain": [
       "<matplotlib.axes._subplots.AxesSubplot at 0x7fcb04c669b0>"
      ]
     },
     "execution_count": 5,
     "metadata": {},
     "output_type": "execute_result"
    },
    {
     "data": {
      "image/png": "[encoded data removed]",
      "text/plain": [
       "<Figure size 432x288 with 1 Axes>"
      ]
     },
     "metadata": {
      "needs_background": "light"
     },
     "output_type": "display_data"
    }
   ],
   "source": [
    "sns.heatmap(df.isnull(), yticklabels=False, cbar=False) "
   ]
  },
  {
   "cell_type": "code",
   "execution_count": 6,
   "metadata": {
    "pycharm": {
     "is_executing": false,
     "name": "#%%\n"
    }
   },
   "outputs": [
    {
     "data": {
      "text/plain": [
       "<matplotlib.axes._subplots.AxesSubplot at 0x7fcb06012438>"
      ]
     },
     "execution_count": 6,
     "metadata": {},
     "output_type": "execute_result"
    },
    {
     "data": {
      "image/png": "[encoded data removed]",
      "text/plain": [
       "<Figure size 432x288 with 1 Axes>"
      ]
     },
     "metadata": {
      "needs_background": "light"
     },
     "output_type": "display_data"
    }
   ],
   "source": [
    "#mazu radky obsahujici nan\n",
    "df.isnull().sum()\n",
    "df.dropna(inplace=True)\n",
    "# print(df.shape)\n",
    "sns.heatmap(df.isnull(), yticklabels=False, cbar=False)"
   ]
  },
  {
   "cell_type": "markdown",
   "metadata": {},
   "source": [
    "## Skewed data\n",
    "https://towardsdatascience.com/top-3-methods-for-handling-skewed-data-1334e0debf45"
   ]
  },
  {
   "cell_type": "code",
   "execution_count": 7,
   "metadata": {
    "pycharm": {
     "is_executing": false
    }
   },
   "outputs": [
    {
     "name": "stdout",
     "output_type": "stream",
     "text": [
      "Skew of offerType: is 255.41485858991055\n",
      "Skew of price: is 282.268049665252\n",
      "Skew of abtest: is 0.07731254614647835\n",
      "Skew of vehicleType: is 0.1219226713873071\n",
      "Skew of yearOfRegistration: is -1.365406119721914\n",
      "Skew of gearbox: is 1.260799889547236\n",
      "Skew of powerPS: is 72.82563833607354\n",
      "Skew of model: is 1.388092580155472\n",
      "Skew of kilometer: is -1.3759768338655631\n",
      "Skew of monthOfRegistration: is 0.07193676265504437\n",
      "Skew of fuelType: is 2.0392571197830076\n",
      "Skew of brand: is 1.3648796661420741\n",
      "Skew of notRepairedDamage: is -2.537094060047216\n"
     ]
    }
   ],
   "source": [
    "# value should be less then 0.05\n",
    "# print columns that are skewed\n",
    "for column in df:\n",
    "    try:\n",
    "        print(f\"Skew of {column}: is {df[column].skew()}\")\n",
    "    except Exception as err:\n",
    "        print(err)"
   ]
  },
  {
   "cell_type": "markdown",
   "metadata": {},
   "source": [
    "#### Sqrt transformation"
   ]
  },
  {
   "cell_type": "code",
   "execution_count": 8,
   "metadata": {
    "pycharm": {
     "is_executing": false
    }
   },
   "outputs": [
    {
     "name": "stdout",
     "output_type": "stream",
     "text": [
      "Skew of offerType: is 255.41485858991018\n",
      "Skew of price: is 0.8800026070813768\n",
      "Skew of abtest: is 0.07731254614647522\n",
      "Skew of vehicleType: is -0.7065167468567224\n",
      "Skew of yearOfRegistration: is -1.3906330344730589\n",
      "Skew of gearbox: is 1.2607998895472339\n",
      "Skew of powerPS: is -2.747476072976706\n",
      "Skew of model: is 0.0004499817171153846\n",
      "Skew of kilometer: is -2.2292203398116053\n",
      "Skew of monthOfRegistration: is -2.1955353990805833\n",
      "Skew of fuelType: is 0.9788514408703916\n",
      "Skew of brand: is -0.035546415397668285\n",
      "Skew of notRepairedDamage: is -2.5370940600472065\n"
     ]
    }
   ],
   "source": [
    "for column in df:\n",
    "    try:\n",
    "        df[column] = np.sqrt(df[column])\n",
    "        print(f\"Skew of {column}: is {np.sqrt(df[column]).skew()}\")\n",
    "    except Exception as err:\n",
    "        print(err)"
   ]
  },
  {
   "cell_type": "markdown",
   "metadata": {},
   "source": [
    "#### Box-con transformation"
   ]
  },
  {
   "cell_type": "code",
   "execution_count": 9,
   "metadata": {
    "pycharm": {
     "is_executing": false
    }
   },
   "outputs": [],
   "source": [
    "# # nefunguje... mozem pouzit rozne postupy na odstranenie nesumernosti dat??\n",
    "# from scipy import stats\n",
    "\n",
    "# for column in df:\n",
    "#     try:\n",
    "#         print(f\"Skew of {column}: is {pd.Series(stats.boxcox(df[column])[0]).skew()}\")\n",
    "#     except Exception as err:\n",
    "#         print(err)"
   ]
  },
  {
   "cell_type": "markdown",
   "metadata": {},
   "source": [
    "## Counts of differente columns"
   ]
  },
  {
   "cell_type": "code",
   "execution_count": 10,
   "metadata": {
    "pycharm": {
     "is_executing": false
    }
   },
   "outputs": [
    {
     "data": {
      "text/plain": [
       "Index(['offerType', 'price', 'abtest', 'vehicleType', 'yearOfRegistration',\n",
       "       'gearbox', 'powerPS', 'model', 'kilometer', 'monthOfRegistration',\n",
       "       'fuelType', 'brand', 'notRepairedDamage'],\n",
       "      dtype='object')"
      ]
     },
     "execution_count": 10,
     "metadata": {},
     "output_type": "execute_result"
    }
   ],
   "source": [
    "df.columns"
   ]
  },
  {
   "cell_type": "code",
   "execution_count": 11,
   "metadata": {
    "pycharm": {
     "is_executing": false
    }
   },
   "outputs": [
    {
     "name": "stderr",
     "output_type": "stream",
     "text": [
      "/home/peter/.local/lib/python3.6/site-packages/seaborn/categorical.py:3666: UserWarning: The `factorplot` function has been renamed to `catplot`. The original name will be removed in a future release. Please update your code. Note that the default `kind` in `factorplot` (`'point'`) has changed `'strip'` in `catplot`.\n",
      "  warnings.warn(msg)\n"
     ]
    },
    {
     "data": {
      "image/png": "[encoded data removed]",
      "text/plain": [
       "<Figure size 900x360 with 1 Axes>"
      ]
     },
     "metadata": {
      "needs_background": "light"
     },
     "output_type": "display_data"
    }
   ],
   "source": [
    "vegicleType = sns.factorplot(x='vehicleType', data=df , kind='count',aspect=2.5, order=pd.value_counts(df['vehicleType']).iloc[:40].index)\n",
    "vegicleType.savefig('countVehiclesByCategory.png')"
   ]
  },
  {
   "cell_type": "code",
   "execution_count": 12,
   "metadata": {
    "pycharm": {
     "is_executing": false
    }
   },
   "outputs": [
    {
     "data": {
      "image/png": "[encoded data removed]",
      "text/plain": [
       "<Figure size 1440x360 with 1 Axes>"
      ]
     },
     "metadata": {
      "needs_background": "light"
     },
     "output_type": "display_data"
    }
   ],
   "source": [
    "yearOfRegistration = sns.factorplot(x='yearOfRegistration', data=df , kind='count',aspect=4 ,order=pd.value_counts(df['yearOfRegistration']).iloc[:40].index)\n",
    "yearOfRegistration.savefig('countYearOfRegistrationByYear.png')"
   ]
  },
  {
   "cell_type": "code",
   "execution_count": 13,
   "metadata": {
    "pycharm": {
     "is_executing": false
    }
   },
   "outputs": [
    {
     "data": {
      "image/png": "[encoded data removed]",
      "text/plain": [
       "<Figure size 720x360 with 1 Axes>"
      ]
     },
     "metadata": {
      "needs_background": "light"
     },
     "output_type": "display_data"
    }
   ],
   "source": [
    "gearbox = sns.factorplot(x='gearbox', data=df , kind='count',aspect=2 ,order=pd.value_counts(df['gearbox']).iloc[:40].index)\n",
    "gearbox.savefig('countGearbox.png')"
   ]
  },
  {
   "cell_type": "code",
   "execution_count": 14,
   "metadata": {
    "pycharm": {
     "is_executing": false
    }
   },
   "outputs": [
    {
     "data": {
      "image/png": "[encoded data removed]",
      "text/plain": [
       "<Figure size 900x360 with 1 Axes>"
      ]
     },
     "metadata": {
      "needs_background": "light"
     },
     "output_type": "display_data"
    }
   ],
   "source": [
    "kilometer = sns.factorplot(x='kilometer', data=df , kind='count',aspect=2.5 ,order=pd.value_counts(df['kilometer']).iloc[:20].index)\n",
    "kilometer.savefig('countKilometer.png')"
   ]
  },
  {
   "cell_type": "code",
   "execution_count": 15,
   "metadata": {
    "pycharm": {
     "is_executing": false
    }
   },
   "outputs": [
    {
     "data": {
      "image/png": "[encoded data removed]",
      "text/plain": [
       "<Figure size 360x360 with 1 Axes>"
      ]
     },
     "metadata": {
      "needs_background": "light"
     },
     "output_type": "display_data"
    }
   ],
   "source": [
    "fuelType = sns.factorplot(x='fuelType', data=df , kind='count',aspect=1 ,order=pd.value_counts(df['fuelType']).iloc[:10].index)\n",
    "fuelType.savefig('countFuelType.png')"
   ]
  },
  {
   "cell_type": "code",
   "execution_count": 16,
   "metadata": {
    "pycharm": {
     "is_executing": false
    }
   },
   "outputs": [
    {
     "data": {
      "image/png": "[encoded data removed]",
      "text/plain": [
       "<Figure size 1260x360 with 1 Axes>"
      ]
     },
     "metadata": {
      "needs_background": "light"
     },
     "output_type": "display_data"
    }
   ],
   "source": [
    "brand = sns.factorplot(x='brand', data=df , kind='count',aspect=3.5 ,order=pd.value_counts(df['brand']).iloc[:20].index)\n",
    "brand.savefig('countBrand.png')"
   ]
  },
  {
   "cell_type": "code",
   "execution_count": 17,
   "metadata": {
    "pycharm": {
     "is_executing": false
    }
   },
   "outputs": [
    {
     "data": {
      "image/png": "[encoded data removed]",
      "text/plain": [
       "<Figure size 360x360 with 1 Axes>"
      ]
     },
     "metadata": {
      "needs_background": "light"
     },
     "output_type": "display_data"
    }
   ],
   "source": [
    "notRepairedDamage = sns.factorplot(x='notRepairedDamage', data=df , kind='count',aspect=1 ,order=pd.value_counts(df['notRepairedDamage']).iloc[:10].index)\n",
    "notRepairedDamage.savefig('countNotRepairedDamage.png')"
   ]
  },
  {
   "cell_type": "markdown",
   "metadata": {},
   "source": [
    "## Correlation heatmap, Pairplot, Histograms"
   ]
  },
  {
   "cell_type": "markdown",
   "metadata": {
    "pycharm": {
     "is_executing": false,
     "name": "#%%\n"
    }
   },
   "source": [
    "#korelace mezi fetures - nevypada to dobre\n",
    "plt.figure(figsize=(20,20))\n",
    "p=sns.heatmap(df.corr(), annot=True,cmap='RdYlGn',square=True)\n",
    "plt.savefig('corelace_bez_Nan_hodnot.png')"
   ]
  },
  {
   "cell_type": "markdown",
   "metadata": {
    "pycharm": {
     "is_executing": false,
     "name": "#%%\n"
    }
   },
   "source": [
    "smallerDF= df.loc[:100,:]\n",
    "plt.figure(figsize=(20,20))\n",
    "p=sns.pairplot(smallerDF)\n",
    "plt.savefig('pairplot.png')"
   ]
  },
  {
   "cell_type": "markdown",
   "metadata": {
    "pycharm": {
     "is_executing": false,
     "name": "#%%\n"
    }
   },
   "source": [
    "p = df.hist(figsize=(20,20),bins=150)\n",
    "plt.savefig('histogram.png')"
   ]
  },
  {
   "cell_type": "markdown",
   "metadata": {},
   "source": [
    "## Data Scaling"
   ]
  },
  {
   "cell_type": "code",
   "execution_count": 18,
   "metadata": {
    "pycharm": {
     "is_executing": false,
     "name": "#%%\n"
    }
   },
   "outputs": [
    {
     "data": {
      "text/html": [
       "<div>\n",
       "<style scoped>\n",
       "    .dataframe tbody tr th:only-of-type {\n",
       "        vertical-align: middle;\n",
       "    }\n",
       "\n",
       "    .dataframe tbody tr th {\n",
       "        vertical-align: top;\n",
       "    }\n",
       "\n",
       "    .dataframe thead th {\n",
       "        text-align: right;\n",
       "    }\n",
       "</style>\n",
       "<table border=\"1\" class=\"dataframe\">\n",
       "  <thead>\n",
       "    <tr style=\"text-align: right;\">\n",
       "      <th></th>\n",
       "      <th>offerType</th>\n",
       "      <th>price</th>\n",
       "      <th>abtest</th>\n",
       "      <th>vehicleType</th>\n",
       "      <th>yearOfRegistration</th>\n",
       "      <th>gearbox</th>\n",
       "      <th>powerPS</th>\n",
       "      <th>model</th>\n",
       "      <th>kilometer</th>\n",
       "      <th>monthOfRegistration</th>\n",
       "      <th>fuelType</th>\n",
       "      <th>brand</th>\n",
       "      <th>notRepairedDamage</th>\n",
       "    </tr>\n",
       "  </thead>\n",
       "  <tbody>\n",
       "    <tr>\n",
       "      <th>3</th>\n",
       "      <td>1.0</td>\n",
       "      <td>38.729833</td>\n",
       "      <td>1.0</td>\n",
       "      <td>-0.721472</td>\n",
       "      <td>-0.353535</td>\n",
       "      <td>1.0</td>\n",
       "      <td>-0.585297</td>\n",
       "      <td>-1.392323</td>\n",
       "      <td>0.600989</td>\n",
       "      <td>2.449490</td>\n",
       "      <td>-0.702731</td>\n",
       "      <td>-1.293544</td>\n",
       "      <td>1.414214</td>\n",
       "    </tr>\n",
       "    <tr>\n",
       "      <th>4</th>\n",
       "      <td>1.0</td>\n",
       "      <td>60.000000</td>\n",
       "      <td>1.0</td>\n",
       "      <td>-0.721472</td>\n",
       "      <td>0.719853</td>\n",
       "      <td>1.0</td>\n",
       "      <td>-0.687225</td>\n",
       "      <td>-1.188236</td>\n",
       "      <td>-0.644546</td>\n",
       "      <td>2.645751</td>\n",
       "      <td>1.196025</td>\n",
       "      <td>-0.513876</td>\n",
       "      <td>1.414214</td>\n",
       "    </tr>\n",
       "    <tr>\n",
       "      <th>5</th>\n",
       "      <td>1.0</td>\n",
       "      <td>25.495098</td>\n",
       "      <td>1.0</td>\n",
       "      <td>-0.120446</td>\n",
       "      <td>-1.275077</td>\n",
       "      <td>1.0</td>\n",
       "      <td>-0.170460</td>\n",
       "      <td>-1.113535</td>\n",
       "      <td>0.600989</td>\n",
       "      <td>3.162278</td>\n",
       "      <td>-0.702731</td>\n",
       "      <td>-0.329821</td>\n",
       "      <td>1.000000</td>\n",
       "    </tr>\n",
       "    <tr>\n",
       "      <th>6</th>\n",
       "      <td>1.0</td>\n",
       "      <td>46.904158</td>\n",
       "      <td>1.0</td>\n",
       "      <td>0.409069</td>\n",
       "      <td>0.106718</td>\n",
       "      <td>1.0</td>\n",
       "      <td>-0.072230</td>\n",
       "      <td>-1.047722</td>\n",
       "      <td>0.600989</td>\n",
       "      <td>2.828427</td>\n",
       "      <td>-0.702731</td>\n",
       "      <td>-0.163423</td>\n",
       "      <td>1.414214</td>\n",
       "    </tr>\n",
       "    <tr>\n",
       "      <th>7</th>\n",
       "      <td>1.0</td>\n",
       "      <td>0.000000</td>\n",
       "      <td>1.0</td>\n",
       "      <td>-0.120446</td>\n",
       "      <td>-3.585013</td>\n",
       "      <td>1.0</td>\n",
       "      <td>-1.043351</td>\n",
       "      <td>-0.988222</td>\n",
       "      <td>-2.071302</td>\n",
       "      <td>2.645751</td>\n",
       "      <td>-0.702731</td>\n",
       "      <td>-1.293544</td>\n",
       "      <td>1.414214</td>\n",
       "    </tr>\n",
       "  </tbody>\n",
       "</table>\n",
       "</div>"
      ],
      "text/plain": [
       "   offerType      price  abtest  vehicleType  yearOfRegistration  gearbox  \\\n",
       "3        1.0  38.729833     1.0    -0.721472           -0.353535      1.0   \n",
       "4        1.0  60.000000     1.0    -0.721472            0.719853      1.0   \n",
       "5        1.0  25.495098     1.0    -0.120446           -1.275077      1.0   \n",
       "6        1.0  46.904158     1.0     0.409069            0.106718      1.0   \n",
       "7        1.0   0.000000     1.0    -0.120446           -3.585013      1.0   \n",
       "\n",
       "    powerPS     model  kilometer  monthOfRegistration  fuelType     brand  \\\n",
       "3 -0.585297 -1.392323   0.600989             2.449490 -0.702731 -1.293544   \n",
       "4 -0.687225 -1.188236  -0.644546             2.645751  1.196025 -0.513876   \n",
       "5 -0.170460 -1.113535   0.600989             3.162278 -0.702731 -0.329821   \n",
       "6 -0.072230 -1.047722   0.600989             2.828427 -0.702731 -0.163423   \n",
       "7 -1.043351 -0.988222  -2.071302             2.645751 -0.702731 -1.293544   \n",
       "\n",
       "   notRepairedDamage  \n",
       "3           1.414214  \n",
       "4           1.414214  \n",
       "5           1.000000  \n",
       "6           1.414214  \n",
       "7           1.414214  "
      ]
     },
     "execution_count": 18,
     "metadata": {},
     "output_type": "execute_result"
    }
   ],
   "source": [
    "from sklearn.preprocessing import StandardScaler\n",
    "sc = StandardScaler()\n",
    "scaled = pd.DataFrame(sc.fit_transform(df[['brand','fuelType','kilometer','model','powerPS','vehicleType','yearOfRegistration']]),\n",
    "                      columns=['brand','fuelType','kilometer','model','powerPS','vehicleType','yearOfRegistration'],\n",
    "                      index=df.index)\n",
    "scaled.head()\n",
    "clean_df = df.copy(deep=True)\n",
    "clean_df[['brand','fuelType','kilometer','model','powerPS','vehicleType','yearOfRegistration']] = scaled[['brand','fuelType','kilometer','model','powerPS','vehicleType','yearOfRegistration']]\n",
    "clean_df.head()\n",
    "# co s monthOfRegistration dateCreated postalCode lastSeen ??\n"
   ]
  },
  {
   "cell_type": "code",
   "execution_count": null,
   "metadata": {},
   "outputs": [],
   "source": []
  },
  {
   "cell_type": "markdown",
   "metadata": {},
   "source": [
    "### Data split"
   ]
  },
  {
   "cell_type": "code",
   "execution_count": 21,
   "metadata": {
    "pycharm": {
     "is_executing": false
    }
   },
   "outputs": [],
   "source": [
    "# Linear regression first shot\n",
    "x_mean = clean_df.drop([\"price\"],axis=1)\n",
    "y_mean = clean_df.price\n",
    "x_minmax =  clean_df_minmax.drop([\"price\"],axis=1)\n",
    "y_minmax = clean_df_minmax.price\n",
    "x_robust = clean_df_robust.drop([\"price\"],axis=1)\n",
    "y_robust = clean_df_robust.price"
   ]
  },
  {
   "cell_type": "markdown",
   "metadata": {},
   "source": [
    "### Feature selection"
   ]
  },
  {
   "cell_type": "code",
   "execution_count": 106,
   "metadata": {},
   "outputs": [
    {
     "data": {
      "text/html": [
       "<div>\n",
       "<style scoped>\n",
       "    .dataframe tbody tr th:only-of-type {\n",
       "        vertical-align: middle;\n",
       "    }\n",
       "\n",
       "    .dataframe tbody tr th {\n",
       "        vertical-align: top;\n",
       "    }\n",
       "\n",
       "    .dataframe thead th {\n",
       "        text-align: right;\n",
       "    }\n",
       "</style>\n",
       "<table border=\"1\" class=\"dataframe\">\n",
       "  <thead>\n",
       "    <tr style=\"text-align: right;\">\n",
       "      <th></th>\n",
       "      <th>offerType</th>\n",
       "      <th>price</th>\n",
       "      <th>abtest</th>\n",
       "      <th>vehicleType</th>\n",
       "      <th>yearOfRegistration</th>\n",
       "      <th>gearbox</th>\n",
       "      <th>powerPS</th>\n",
       "      <th>model</th>\n",
       "      <th>kilometer</th>\n",
       "      <th>monthOfRegistration</th>\n",
       "      <th>fuelType</th>\n",
       "      <th>brand</th>\n",
       "      <th>notRepairedDamage</th>\n",
       "    </tr>\n",
       "  </thead>\n",
       "  <tbody>\n",
       "    <tr>\n",
       "      <th>3</th>\n",
       "      <td>1.0</td>\n",
       "      <td>38.729833</td>\n",
       "      <td>1.0</td>\n",
       "      <td>-0.721472</td>\n",
       "      <td>-0.353535</td>\n",
       "      <td>1.0</td>\n",
       "      <td>-0.585297</td>\n",
       "      <td>-1.392323</td>\n",
       "      <td>0.600989</td>\n",
       "      <td>2.449490</td>\n",
       "      <td>-0.702731</td>\n",
       "      <td>-1.293544</td>\n",
       "      <td>1.414214</td>\n",
       "    </tr>\n",
       "    <tr>\n",
       "      <th>4</th>\n",
       "      <td>1.0</td>\n",
       "      <td>60.000000</td>\n",
       "      <td>1.0</td>\n",
       "      <td>-0.721472</td>\n",
       "      <td>0.719853</td>\n",
       "      <td>1.0</td>\n",
       "      <td>-0.687225</td>\n",
       "      <td>-1.188236</td>\n",
       "      <td>-0.644546</td>\n",
       "      <td>2.645751</td>\n",
       "      <td>1.196025</td>\n",
       "      <td>-0.513876</td>\n",
       "      <td>1.414214</td>\n",
       "    </tr>\n",
       "    <tr>\n",
       "      <th>5</th>\n",
       "      <td>1.0</td>\n",
       "      <td>25.495098</td>\n",
       "      <td>1.0</td>\n",
       "      <td>-0.120446</td>\n",
       "      <td>-1.275077</td>\n",
       "      <td>1.0</td>\n",
       "      <td>-0.170460</td>\n",
       "      <td>-1.113535</td>\n",
       "      <td>0.600989</td>\n",
       "      <td>3.162278</td>\n",
       "      <td>-0.702731</td>\n",
       "      <td>-0.329821</td>\n",
       "      <td>1.000000</td>\n",
       "    </tr>\n",
       "    <tr>\n",
       "      <th>6</th>\n",
       "      <td>1.0</td>\n",
       "      <td>46.904158</td>\n",
       "      <td>1.0</td>\n",
       "      <td>0.409069</td>\n",
       "      <td>0.106718</td>\n",
       "      <td>1.0</td>\n",
       "      <td>-0.072230</td>\n",
       "      <td>-1.047722</td>\n",
       "      <td>0.600989</td>\n",
       "      <td>2.828427</td>\n",
       "      <td>-0.702731</td>\n",
       "      <td>-0.163423</td>\n",
       "      <td>1.414214</td>\n",
       "    </tr>\n",
       "    <tr>\n",
       "      <th>7</th>\n",
       "      <td>1.0</td>\n",
       "      <td>0.000000</td>\n",
       "      <td>1.0</td>\n",
       "      <td>-0.120446</td>\n",
       "      <td>-3.585013</td>\n",
       "      <td>1.0</td>\n",
       "      <td>-1.043351</td>\n",
       "      <td>-0.988222</td>\n",
       "      <td>-2.071302</td>\n",
       "      <td>2.645751</td>\n",
       "      <td>-0.702731</td>\n",
       "      <td>-1.293544</td>\n",
       "      <td>1.414214</td>\n",
       "    </tr>\n",
       "  </tbody>\n",
       "</table>\n",
       "</div>"
      ],
      "text/plain": [
       "   offerType      price  abtest  vehicleType  yearOfRegistration  gearbox  \\\n",
       "3        1.0  38.729833     1.0    -0.721472           -0.353535      1.0   \n",
       "4        1.0  60.000000     1.0    -0.721472            0.719853      1.0   \n",
       "5        1.0  25.495098     1.0    -0.120446           -1.275077      1.0   \n",
       "6        1.0  46.904158     1.0     0.409069            0.106718      1.0   \n",
       "7        1.0   0.000000     1.0    -0.120446           -3.585013      1.0   \n",
       "\n",
       "    powerPS     model  kilometer  monthOfRegistration  fuelType     brand  \\\n",
       "3 -0.585297 -1.392323   0.600989             2.449490 -0.702731 -1.293544   \n",
       "4 -0.687225 -1.188236  -0.644546             2.645751  1.196025 -0.513876   \n",
       "5 -0.170460 -1.113535   0.600989             3.162278 -0.702731 -0.329821   \n",
       "6 -0.072230 -1.047722   0.600989             2.828427 -0.702731 -0.163423   \n",
       "7 -1.043351 -0.988222  -2.071302             2.645751 -0.702731 -1.293544   \n",
       "\n",
       "   notRepairedDamage  \n",
       "3           1.414214  \n",
       "4           1.414214  \n",
       "5           1.000000  \n",
       "6           1.414214  \n",
       "7           1.414214  "
      ]
     },
     "execution_count": 106,
     "metadata": {},
     "output_type": "execute_result"
    }
   ],
   "source": [
    "l = list(range(0,len(clean_df.columns)))\n",
    "clean_df.head()"
   ]
  },
  {
   "cell_type": "code",
   "execution_count": null,
   "metadata": {},
   "outputs": [],
   "source": [
    "X = clean_df.drop(\"price\",1) \n",
    "y = df[\"price\"]  \n",
    "X_1 = smf.add_constant(X)\n",
    "regressor_ols = smf.OLS(y,X_1).fit()"
   ]
  },
  {
   "cell_type": "code",
   "execution_count": null,
   "metadata": {},
   "outputs": [],
   "source": [
    "regressor_ols.summary(xname=list(clean_df.columns))"
   ]
  },
  {
   "cell_type": "markdown",
   "metadata": {},
   "source": [
    "#### Backward Elimination"
   ]
  },
  {
   "cell_type": "code",
   "execution_count": null,
   "metadata": {},
   "outputs": [],
   "source": [
    "cols = list(X.columns)\n",
    "pmax = 1\n",
    "while (len(cols)>0):\n",
    "    p= []\n",
    "    X_1 = X[cols]\n",
    "    X_1 = smf.add_constant(X_1)\n",
    "    model = smf.OLS(y,X_1).fit()\n",
    "    p = pd.Series(model.pvalues.values[1:],index = cols)      \n",
    "    pmax = max(p)\n",
    "    feature_with_p_max = p.idxmax()\n",
    "    if(pmax>0.05):\n",
    "        cols.remove(feature_with_p_max)\n",
    "    else:\n",
    "        break\n",
    "selected_features_BE = cols\n",
    "selected_features_BE"
   ]
  },
  {
   "cell_type": "markdown",
   "metadata": {},
   "source": [
    "#### Recursive feature elimination"
   ]
  },
  {
   "cell_type": "code",
   "execution_count": null,
   "metadata": {},
   "outputs": [],
   "source": [
    "#no of features\n",
    "nof_list=np.arange(1,12)            \n",
    "high_score=0\n",
    "#Variable to store the optimum features\n",
    "nof=0           \n",
    "score_list =[]\n",
    "for n in range(len(nof_list)):\n",
    "    X_train, X_test, y_train, y_test = train_test_split(X,y, test_size = 0.3, random_state = 0)\n",
    "    model = linear_model.LinearRegression()\n",
    "    rfe = RFE(model,nof_list[n])\n",
    "    X_train_rfe = rfe.fit_transform(X_train,y_train)\n",
    "    X_test_rfe = rfe.transform(X_test)\n",
    "    model.fit(X_train_rfe,y_train)\n",
    "    score = model.score(X_test_rfe,y_test)\n",
    "    score_list.append(score)\n",
    "    if(score>high_score):\n",
    "        high_score = score\n",
    "        nof = nof_list[n]\n",
    "print(\"Optimum number of features: %d\" %nof)\n",
    "print(\"Score with %d features: %f\" % (nof, high_score))"
   ]
  },
  {
   "cell_type": "code",
   "execution_count": null,
   "metadata": {},
   "outputs": [],
   "source": [
    "cols = list(X.columns)\n",
    "model = linear_model.LinearRegression()\n",
    "#Initializing RFE model\n",
    "rfe = RFE(model, 10)             \n",
    "#Transforming data using RFE\n",
    "X_rfe = rfe.fit_transform(X,y)  \n",
    "#Fitting the data to model\n",
    "model.fit(X_rfe,y)              \n",
    "temp = pd.Series(rfe.support_,index = cols)\n",
    "selected_features_rfe = temp[temp==True].index\n",
    "print(selected_features_rfe)"
   ]
  },
  {
   "cell_type": "markdown",
   "metadata": {},
   "source": [
    "### Train test split"
   ]
  },
  {
   "cell_type": "code",
   "execution_count": null,
   "metadata": {},
   "outputs": [],
   "source": [
    "from sklearn.model_selection import train_test_split\n",
    "train_x, test_x, train_y, test_y = train_test_split(x_robust, y_robust,random_state = 2,test_size=0.3)"
   ]
  },
  {
   "cell_type": "markdown",
   "metadata": {
    "pycharm": {
     "name": "#%% md\n"
    }
   },
   "source": [
    "### Linear Regression\n"
   ]
  },
  {
   "cell_type": "code",
   "execution_count": 150,
   "metadata": {
    "pycharm": {
     "is_executing": false,
     "name": "#%%\n"
    }
   },
   "outputs": [
    {
     "name": "stdout",
     "output_type": "stream",
     "text": [
      "accuracy: 44.10046560207076%\n",
      "Mean absolute error: 17.866052435959716\n",
      "Mean squared error: 1297.6797517359535\n",
      "R Squared: 0.4410046560207076\n",
      "Adjusted R Squared: 0.44092610030325274\n"
     ]
    }
   ],
   "source": [
    "from sklearn.metrics import mean_absolute_error\n",
    "from sklearn.metrics import mean_squared_error\n",
    "from sklearn.metrics import r2_score\n",
    "from sklearn import linear_model\n",
    "from sklearn.model_selection import GridSearchCV\n",
    "from sklearn.model_selection import learning_curve\n",
    "from sklearn.model_selection import validation_curve\n",
    "\n",
    "train_sizes = [1, 100, 500, 2000, 5000, 7654]\n",
    "\n",
    "train_sizes, train_scores, validation_scores = learning_curve(\n",
    "estimator = linear_model.LinearRegression(),\n",
    "X = train_x,\n",
    "y = train_y, \n",
    "train_sizes = train_sizes, \n",
    "cv = 5,\n",
    "scoring = 'neg_mean_squared_error')\n",
    "\n",
    "regr = linear_model.LinearRegression()\n",
    "regr.fit(train_x,train_y)\n",
    "y_pred = regr.predict(test_x)\n",
    "print(\"accuracy: \"+ str(regr.score(test_x,test_y)*100) + \"%\")\n",
    "print(\"Mean absolute error: {}\".format(mean_absolute_error(test_y,y_pred)))\n",
    "print(\"Mean squared error: {}\".format(mean_squared_error(test_y,y_pred)))\n",
    "R2 = r2_score(test_y,y_pred)\n",
    "print('R Squared: {}'.format(R2))\n",
    "n=test_x.shape[0]\n",
    "p=test_x.shape[1] - 1\n",
    "\n",
    "\n",
    "adj_rsquared = 1 - (1 - R2) * ((n - 1)/(n-p-1))\n",
    "print('Adjusted R Squared: {}'.format(adj_rsquared))\n"
   ]
  },
  {
   "cell_type": "code",
   "execution_count": 127,
   "metadata": {},
   "outputs": [],
   "source": [
    "train_scores_mean = -train_scores.mean(axis = 1)\n",
    "validation_scores_mean = -validation_scores.mean(axis = 1)"
   ]
  },
  {
   "cell_type": "code",
   "execution_count": 129,
   "metadata": {},
   "outputs": [
    {
     "data": {
      "text/plain": [
       "<matplotlib.legend.Legend at 0x7fcb0397b400>"
      ]
     },
     "execution_count": 129,
     "metadata": {},
     "output_type": "execute_result"
    },
    {
     "data": {
      "image/png": "[encoded data removed]",
      "text/plain": [
       "<Figure size 576x396 with 1 Axes>"
      ]
     },
     "metadata": {},
     "output_type": "display_data"
    }
   ],
   "source": [
    "plt.style.use('seaborn')\n",
    "plt.plot(train_sizes, train_scores_mean, label = 'Training error')\n",
    "plt.plot(train_sizes, validation_scores_mean, label = 'Validation error')\n",
    "plt.ylabel('MSE', fontsize = 14)\n",
    "plt.xlabel('Training set size', fontsize = 14)\n",
    "plt.title('Learning curves for a linear regression model', fontsize = 18, y = 1.03)\n",
    "plt.legend()"
   ]
  },
  {
   "cell_type": "markdown",
   "metadata": {},
   "source": [
    "Mean scalling\n",
    "accuracy: 44.10046560207075%\n",
    "Mean absolute error: 17.866052435959766\n",
    "Mean squared error: 1297.679751735954\n",
    "R Squared: 0.4410046560207075\n",
    "Adjusted R Squared: 0.44092610030325263\n",
    "\n",
    "Minmax scalling (to bude to stejny jako standar scalling)\n",
    "accuracy: 44.100465602070784%\n",
    "Mean absolute error: 17.866052435959723\n",
    "Mean squared error: 1297.679751735953\n",
    "R Squared: 0.4410046560207078\n",
    "Adjusted R Squared: 0.44092610030325297\n",
    "\n",
    "Robust scalling\n",
    "accuracy: 44.10046560207075%\n",
    "Mean absolute error: 17.866052435959624\n",
    "Mean squared error: 1297.679751735954\n",
    "R Squared: 0.4410046560207075\n",
    "Adjusted R Squared: 0.44092610030325263\n",
    "\n"
   ]
  },
  {
   "cell_type": "markdown",
   "metadata": {},
   "source": [
    "## Lasso regresion"
   ]
  },
  {
   "cell_type": "code",
   "execution_count": 156,
   "metadata": {},
   "outputs": [
    {
     "name": "stdout",
     "output_type": "stream",
     "text": [
      "accuracy: 44.09729320091971%\n",
      "Mean absolute error: 17.86366720005571\n",
      "Mean squared error: 1297.753397443068\n",
      "R Squared: 0.44097293200919707\n",
      "Adjusted R Squared: 0.44089437183356117\n"
     ]
    }
   ],
   "source": [
    "las_reg = linear_model.Lasso(alpha=0.01)\n",
    "las_reg.fit(train_x,train_y)\n",
    "y_pred = las_reg.predict(test_x)\n",
    "print(\"accuracy: \"+ str(las_reg.score(test_x,test_y)*100) + \"%\")\n",
    "print(\"Mean absolute error: {}\".format(mean_absolute_error(test_y,y_pred)))\n",
    "print(\"Mean squared error: {}\".format(mean_squared_error(test_y,y_pred)))\n",
    "R2 = r2_score(test_y,y_pred)\n",
    "print('R Squared: {}'.format(R2))\n",
    "n=test_x.shape[0]\n",
    "p=test_x.shape[1] - 1\n",
    "\n",
    "adj_rsquared = 1 - (1 - R2) * ((n - 1)/(n-p-1))\n",
    "print('Adjusted R Squared: {}'.format(adj_rsquared))"
   ]
  },
  {
   "cell_type": "code",
   "execution_count": 155,
   "metadata": {},
   "outputs": [
    {
     "name": "stdout",
     "output_type": "stream",
     "text": [
      "Best Score:  0.43871430400234396\n",
      "Best Params:  {'alpha': 0.001}\n"
     ]
    }
   ],
   "source": [
    "alpha = [0.001, 0.01, 0.1, 1, 10, 100, 1000]\n",
    "param_grid = dict(alpha=alpha)\n",
    "grid = GridSearchCV(estimator=las_reg, param_grid=param_grid, n_jobs=-1, return_train_score= True)\n",
    "grid_result = grid.fit(X_train, y_train)\n",
    "print('Best Score: ', grid_result.best_score_)\n",
    "print('Best Params: ', grid_result.best_params_)"
   ]
  },
  {
   "cell_type": "code",
   "execution_count": null,
   "metadata": {},
   "outputs": [],
   "source": [
    "param_range = np.logspace(-4,2,150)\n",
    "train_scores, test_scores = validation_curve(\n",
    "    linear_model.Lasso(), train_x, train_y, param_name=\"alpha\", param_range=param_range,\n",
    "    scoring=None, n_jobs=-1)\n",
    "train_scores_mean = np.mean(train_scores, axis=1)\n",
    "train_scores_std = np.std(train_scores, axis=1)\n",
    "test_scores_mean = np.mean(test_scores, axis=1)\n",
    "test_scores_std = np.std(test_scores, axis=1)\n",
    "\n",
    "plt.title(\"Validation Curve with Lasso\")\n",
    "plt.xlabel(r\"$\\alpha$\")\n",
    "plt.ylabel(\"Score\")\n",
    "plt.ylim(0.0, 1.1)\n",
    "lw = 2\n",
    "plt.semilogx(param_range, train_scores_mean, label=\"Training score\",\n",
    "             color=\"darkorange\", lw=lw)\n",
    "# plt.fill_between(param_range, train_scores_mean - train_scores_std,\n",
    "#                  train_scores_mean + train_scores_std, alpha=0.2,\n",
    "#                  color=\"darkorange\", lw=lw)\n",
    "plt.semilogx(param_range, test_scores_mean, label=\"Cross-validation score\",\n",
    "             color=\"navy\", lw=lw)\n",
    "# plt.fill_between(param_range, test_scores_mean - test_scores_std,\n",
    "#                  test_scores_mean + test_scores_std, alpha=0.2,\n",
    "#                  color=\"navy\", lw=lw)\n",
    "plt.legend(loc=\"best\")\n",
    "plt.show()\n"
   ]
  },
  {
   "cell_type": "code",
   "execution_count": 160,
   "metadata": {},
   "outputs": [
    {
     "data": {
      "text/plain": [
       "array([1.e-07, 1.e-02, 1.e+03])"
      ]
     },
     "execution_count": 160,
     "metadata": {},
     "output_type": "execute_result"
    }
   ],
   "source": [
    " np.logspace(-7,3,3)"
   ]
  },
  {
   "cell_type": "markdown",
   "metadata": {},
   "source": [
    "#### Exploring feature selection by Lasso"
   ]
  },
  {
   "cell_type": "code",
   "execution_count": 110,
   "metadata": {},
   "outputs": [
    {
     "name": "stdout",
     "output_type": "stream",
     "text": [
      "Best alpha using built-in LassoCV: 0.001000\n",
      "Best score using built-in LassoCV: 0.266075\n"
     ]
    }
   ],
   "source": [
    "print(\"Best alpha using built-in LassoCV: %f\" % las_reg.alpha)\n",
    "print(\"Best score using built-in LassoCV: %f\" %las_reg.score(X,y))\n",
    "coef = pd.Series(las_reg.coef_, index = X.columns)"
   ]
  },
  {
   "cell_type": "code",
   "execution_count": 111,
   "metadata": {},
   "outputs": [
    {
     "name": "stdout",
     "output_type": "stream",
     "text": [
      "Lasso picked 11 variables and eliminated the other 1 variables\n"
     ]
    }
   ],
   "source": [
    "print(\"Lasso picked \" + str(sum(coef != 0)) + \" variables and eliminated the other \" +  str(sum(coef == 0)) + \" variables\")"
   ]
  },
  {
   "cell_type": "code",
   "execution_count": 112,
   "metadata": {},
   "outputs": [
    {
     "data": {
      "text/plain": [
       "Text(0.5, 1.0, 'Feature importance using Lasso Model')"
      ]
     },
     "execution_count": 112,
     "metadata": {},
     "output_type": "execute_result"
    },
    {
     "data": {
      "image/png": "[encoded data removed]",
      "text/plain": [
       "<Figure size 576x720 with 1 Axes>"
      ]
     },
     "metadata": {
      "needs_background": "light"
     },
     "output_type": "display_data"
    }
   ],
   "source": [
    "imp_coef = coef.sort_values()\n",
    "import matplotlib\n",
    "matplotlib.rcParams['figure.figsize'] = (8.0, 10.0)\n",
    "imp_coef.plot(kind = \"barh\")\n",
    "plt.title(\"Feature importance using Lasso Model\")"
   ]
  },
  {
   "cell_type": "markdown",
   "metadata": {},
   "source": [
    "## Ridge regresion"
   ]
  },
  {
   "cell_type": "code",
   "execution_count": 101,
   "metadata": {},
   "outputs": [
    {
     "name": "stdout",
     "output_type": "stream",
     "text": [
      "accuracy: 44.1004462434464%\n",
      "Mean absolute error: 17.866031511434166\n",
      "Mean squared error: 1297.6802011367422\n",
      "R Squared: 0.441004462434464\n",
      "Adjusted R Squared: 0.44092590668980447\n"
     ]
    }
   ],
   "source": [
    "rig_reg = linear_model.Ridge(alpha=0.1)\n",
    "rig_reg.fit(train_x,train_y)\n",
    "y_pred = rig_reg.predict(test_x)\n",
    "print(\"accuracy: \"+ str(rig_reg.score(test_x,test_y)*100) + \"%\")\n",
    "print(\"Mean absolute error: {}\".format(mean_absolute_error(test_y,y_pred)))\n",
    "print(\"Mean squared error: {}\".format(mean_squared_error(test_y,y_pred)))\n",
    "R2 = r2_score(test_y,y_pred)\n",
    "print('R Squared: {}'.format(R2))\n",
    "n=test_x.shape[0]\n",
    "p=test_x.shape[1] - 1\n",
    "\n",
    "adj_rsquared = 1 - (1 - R2) * ((n - 1)/(n-p-1))\n",
    "print('Adjusted R Squared: {}'.format(adj_rsquared))"
   ]
  },
  {
   "cell_type": "code",
   "execution_count": 96,
   "metadata": {},
   "outputs": [],
   "source": [
    "alpha = [0.001, 0.01, 0.1, 1, 10, 100, 1000]\n",
    "param_grid = dict(alpha=alpha)\n",
    "grid = GridSearchCV(estimator=rig_reg, param_grid=param_grid, n_jobs=-1)\n",
    "grid_result = grid.fit(X_train, y_train)"
   ]
  },
  {
   "cell_type": "code",
   "execution_count": 98,
   "metadata": {},
   "outputs": [
    {
     "name": "stdout",
     "output_type": "stream",
     "text": [
      "Best Params:  {'alpha': 0.1}\n",
      "Best Params:  0.43871749806406746\n"
     ]
    }
   ],
   "source": [
    "print('Best Params: ', grid_result.best_params_)\n",
    "print('Best Params: ', grid_result.best_score_)"
   ]
  },
  {
   "cell_type": "code",
   "execution_count": null,
   "metadata": {},
   "outputs": [],
   "source": []
  }
 ],
 "metadata": {
  "kernelspec": {
   "display_name": "Python 3",
   "language": "python",
   "name": "python3"
  },
  "language_info": {
   "codemirror_mode": {
    "name": "ipython",
    "version": 3
   },
   "file_extension": ".py",
   "mimetype": "text/x-python",
   "name": "python",
   "nbconvert_exporter": "python",
   "pygments_lexer": "ipython3",
   "version": "3.6.9"
  },
  "pycharm": {
   "stem_cell": {
    "cell_type": "raw",
    "metadata": {
     "collapsed": false
    },
    "source": []
   }
  }
 },
 "nbformat": 4,
 "nbformat_minor": 1
}
