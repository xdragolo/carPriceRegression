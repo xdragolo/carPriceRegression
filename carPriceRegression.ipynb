{
 "cells": [
  {
   "cell_type": "code",
   "execution_count": 39,
   "metadata": {
    "pycharm": {
     "is_executing": false,
     "name": "#%%\n"
    }
   },
   "outputs": [],
   "source": [
    "import numpy as np\n",
    "import pandas as pd\n",
    "import matplotlib.pyplot as plt\n",
    "import seaborn as sns\n",
    "def numerizeClass(column):\n",
    "    unq = df[column].dropna().unique()\n",
    "    #Zmenil som 0 na 1\n",
    "    cnt = 1\n",
    "    for u in unq:\n",
    "        # idx = df[df[column] == u].index.tolist()\n",
    "        df[column].replace(u,cnt, inplace = True)\n",
    "        # print(df[column])\n",
    "        cnt +=1\n",
    "    "
   ]
  },
  {
   "cell_type": "markdown",
   "metadata": {},
   "source": [
    "# Data introduction"
   ]
  },
  {
   "cell_type": "code",
   "execution_count": 40,
   "metadata": {
    "pycharm": {
     "is_executing": false,
     "name": "#%%\n"
    }
   },
   "outputs": [
    {
     "data": {
      "text/html": [
       "<div>\n",
       "<style scoped>\n",
       "    .dataframe tbody tr th:only-of-type {\n",
       "        vertical-align: middle;\n",
       "    }\n",
       "\n",
       "    .dataframe tbody tr th {\n",
       "        vertical-align: top;\n",
       "    }\n",
       "\n",
       "    .dataframe thead th {\n",
       "        text-align: right;\n",
       "    }\n",
       "</style>\n",
       "<table border=\"1\" class=\"dataframe\">\n",
       "  <thead>\n",
       "    <tr style=\"text-align: right;\">\n",
       "      <th></th>\n",
       "      <th>offerType</th>\n",
       "      <th>price</th>\n",
       "      <th>abtest</th>\n",
       "      <th>vehicleType</th>\n",
       "      <th>yearOfRegistration</th>\n",
       "      <th>gearbox</th>\n",
       "      <th>powerPS</th>\n",
       "      <th>model</th>\n",
       "      <th>kilometer</th>\n",
       "      <th>monthOfRegistration</th>\n",
       "      <th>fuelType</th>\n",
       "      <th>brand</th>\n",
       "      <th>notRepairedDamage</th>\n",
       "    </tr>\n",
       "  </thead>\n",
       "  <tbody>\n",
       "    <tr>\n",
       "      <th>0</th>\n",
       "      <td>Angebot</td>\n",
       "      <td>480</td>\n",
       "      <td>test</td>\n",
       "      <td>NaN</td>\n",
       "      <td>1993</td>\n",
       "      <td>manuell</td>\n",
       "      <td>0</td>\n",
       "      <td>golf</td>\n",
       "      <td>150000</td>\n",
       "      <td>0</td>\n",
       "      <td>benzin</td>\n",
       "      <td>volkswagen</td>\n",
       "      <td>NaN</td>\n",
       "    </tr>\n",
       "    <tr>\n",
       "      <th>1</th>\n",
       "      <td>Angebot</td>\n",
       "      <td>18300</td>\n",
       "      <td>test</td>\n",
       "      <td>coupe</td>\n",
       "      <td>2011</td>\n",
       "      <td>manuell</td>\n",
       "      <td>190</td>\n",
       "      <td>NaN</td>\n",
       "      <td>125000</td>\n",
       "      <td>5</td>\n",
       "      <td>diesel</td>\n",
       "      <td>audi</td>\n",
       "      <td>ja</td>\n",
       "    </tr>\n",
       "    <tr>\n",
       "      <th>2</th>\n",
       "      <td>Angebot</td>\n",
       "      <td>9800</td>\n",
       "      <td>test</td>\n",
       "      <td>suv</td>\n",
       "      <td>2004</td>\n",
       "      <td>automatik</td>\n",
       "      <td>163</td>\n",
       "      <td>grand</td>\n",
       "      <td>125000</td>\n",
       "      <td>8</td>\n",
       "      <td>diesel</td>\n",
       "      <td>jeep</td>\n",
       "      <td>NaN</td>\n",
       "    </tr>\n",
       "    <tr>\n",
       "      <th>3</th>\n",
       "      <td>Angebot</td>\n",
       "      <td>1500</td>\n",
       "      <td>test</td>\n",
       "      <td>kleinwagen</td>\n",
       "      <td>2001</td>\n",
       "      <td>manuell</td>\n",
       "      <td>75</td>\n",
       "      <td>golf</td>\n",
       "      <td>150000</td>\n",
       "      <td>6</td>\n",
       "      <td>benzin</td>\n",
       "      <td>volkswagen</td>\n",
       "      <td>nein</td>\n",
       "    </tr>\n",
       "    <tr>\n",
       "      <th>4</th>\n",
       "      <td>Angebot</td>\n",
       "      <td>3600</td>\n",
       "      <td>test</td>\n",
       "      <td>kleinwagen</td>\n",
       "      <td>2008</td>\n",
       "      <td>manuell</td>\n",
       "      <td>69</td>\n",
       "      <td>fabia</td>\n",
       "      <td>90000</td>\n",
       "      <td>7</td>\n",
       "      <td>diesel</td>\n",
       "      <td>skoda</td>\n",
       "      <td>nein</td>\n",
       "    </tr>\n",
       "  </tbody>\n",
       "</table>\n",
       "</div>"
      ],
      "text/plain": [
       "  offerType  price abtest vehicleType  yearOfRegistration    gearbox  powerPS  \\\n",
       "0   Angebot    480   test         NaN                1993    manuell        0   \n",
       "1   Angebot  18300   test       coupe                2011    manuell      190   \n",
       "2   Angebot   9800   test         suv                2004  automatik      163   \n",
       "3   Angebot   1500   test  kleinwagen                2001    manuell       75   \n",
       "4   Angebot   3600   test  kleinwagen                2008    manuell       69   \n",
       "\n",
       "   model  kilometer  monthOfRegistration fuelType       brand  \\\n",
       "0   golf     150000                    0   benzin  volkswagen   \n",
       "1    NaN     125000                    5   diesel        audi   \n",
       "2  grand     125000                    8   diesel        jeep   \n",
       "3   golf     150000                    6   benzin  volkswagen   \n",
       "4  fabia      90000                    7   diesel       skoda   \n",
       "\n",
       "  notRepairedDamage  \n",
       "0               NaN  \n",
       "1                ja  \n",
       "2               NaN  \n",
       "3              nein  \n",
       "4              nein  "
      ]
     },
     "execution_count": 40,
     "metadata": {},
     "output_type": "execute_result"
    }
   ],
   "source": [
    "import pandas as pd\n",
    "import re\n",
    "import numpy as np\n",
    "df = pd.read_csv('autos.csv',header=0,encoding='iso8859_2')\n",
    "\n",
    "df['seller'].value_counts()\n",
    "# mazu nepotrebne sloupce - nazev inzeratu, datum stazeni, pocet fotek = vzdy 0\n",
    "# druheho typu je tak malo ze to nema smysl resit\n",
    "df = df.drop(['name','dateCrawled','nrOfPictures','seller',\"dateCreated\",\"postalCode\", \"lastSeen\"],axis=1)\n",
    "df.head()\n"
   ]
  },
  {
   "cell_type": "markdown",
   "metadata": {},
   "source": [
    "## Categorical data handeling"
   ]
  },
  {
   "cell_type": "code",
   "execution_count": 41,
   "metadata": {
    "pycharm": {
     "is_executing": false,
     "name": "#%%\n"
    }
   },
   "outputs": [
    {
     "data": {
      "text/html": [
       "<div>\n",
       "<style scoped>\n",
       "    .dataframe tbody tr th:only-of-type {\n",
       "        vertical-align: middle;\n",
       "    }\n",
       "\n",
       "    .dataframe tbody tr th {\n",
       "        vertical-align: top;\n",
       "    }\n",
       "\n",
       "    .dataframe thead th {\n",
       "        text-align: right;\n",
       "    }\n",
       "</style>\n",
       "<table border=\"1\" class=\"dataframe\">\n",
       "  <thead>\n",
       "    <tr style=\"text-align: right;\">\n",
       "      <th></th>\n",
       "      <th>offerType</th>\n",
       "      <th>price</th>\n",
       "      <th>abtest</th>\n",
       "      <th>vehicleType</th>\n",
       "      <th>yearOfRegistration</th>\n",
       "      <th>gearbox</th>\n",
       "      <th>powerPS</th>\n",
       "      <th>model</th>\n",
       "      <th>kilometer</th>\n",
       "      <th>monthOfRegistration</th>\n",
       "      <th>fuelType</th>\n",
       "      <th>brand</th>\n",
       "      <th>notRepairedDamage</th>\n",
       "    </tr>\n",
       "  </thead>\n",
       "  <tbody>\n",
       "    <tr>\n",
       "      <th>0</th>\n",
       "      <td>1</td>\n",
       "      <td>480</td>\n",
       "      <td>1</td>\n",
       "      <td>NaN</td>\n",
       "      <td>1993</td>\n",
       "      <td>1.0</td>\n",
       "      <td>0</td>\n",
       "      <td>1.0</td>\n",
       "      <td>150000</td>\n",
       "      <td>0</td>\n",
       "      <td>1.0</td>\n",
       "      <td>1</td>\n",
       "      <td>NaN</td>\n",
       "    </tr>\n",
       "    <tr>\n",
       "      <th>1</th>\n",
       "      <td>1</td>\n",
       "      <td>18300</td>\n",
       "      <td>1</td>\n",
       "      <td>1.0</td>\n",
       "      <td>2011</td>\n",
       "      <td>1.0</td>\n",
       "      <td>190</td>\n",
       "      <td>NaN</td>\n",
       "      <td>125000</td>\n",
       "      <td>5</td>\n",
       "      <td>2.0</td>\n",
       "      <td>2</td>\n",
       "      <td>1.0</td>\n",
       "    </tr>\n",
       "    <tr>\n",
       "      <th>2</th>\n",
       "      <td>1</td>\n",
       "      <td>9800</td>\n",
       "      <td>1</td>\n",
       "      <td>2.0</td>\n",
       "      <td>2004</td>\n",
       "      <td>2.0</td>\n",
       "      <td>163</td>\n",
       "      <td>2.0</td>\n",
       "      <td>125000</td>\n",
       "      <td>8</td>\n",
       "      <td>2.0</td>\n",
       "      <td>3</td>\n",
       "      <td>NaN</td>\n",
       "    </tr>\n",
       "    <tr>\n",
       "      <th>3</th>\n",
       "      <td>1</td>\n",
       "      <td>1500</td>\n",
       "      <td>1</td>\n",
       "      <td>3.0</td>\n",
       "      <td>2001</td>\n",
       "      <td>1.0</td>\n",
       "      <td>75</td>\n",
       "      <td>1.0</td>\n",
       "      <td>150000</td>\n",
       "      <td>6</td>\n",
       "      <td>1.0</td>\n",
       "      <td>1</td>\n",
       "      <td>2.0</td>\n",
       "    </tr>\n",
       "    <tr>\n",
       "      <th>4</th>\n",
       "      <td>1</td>\n",
       "      <td>3600</td>\n",
       "      <td>1</td>\n",
       "      <td>3.0</td>\n",
       "      <td>2008</td>\n",
       "      <td>1.0</td>\n",
       "      <td>69</td>\n",
       "      <td>3.0</td>\n",
       "      <td>90000</td>\n",
       "      <td>7</td>\n",
       "      <td>2.0</td>\n",
       "      <td>4</td>\n",
       "      <td>2.0</td>\n",
       "    </tr>\n",
       "  </tbody>\n",
       "</table>\n",
       "</div>"
      ],
      "text/plain": [
       "   offerType  price  abtest  vehicleType  yearOfRegistration  gearbox  \\\n",
       "0          1    480       1          NaN                1993      1.0   \n",
       "1          1  18300       1          1.0                2011      1.0   \n",
       "2          1   9800       1          2.0                2004      2.0   \n",
       "3          1   1500       1          3.0                2001      1.0   \n",
       "4          1   3600       1          3.0                2008      1.0   \n",
       "\n",
       "   powerPS  model  kilometer  monthOfRegistration  fuelType  brand  \\\n",
       "0        0    1.0     150000                    0       1.0      1   \n",
       "1      190    NaN     125000                    5       2.0      2   \n",
       "2      163    2.0     125000                    8       2.0      3   \n",
       "3       75    1.0     150000                    6       1.0      1   \n",
       "4       69    3.0      90000                    7       2.0      4   \n",
       "\n",
       "   notRepairedDamage  \n",
       "0                NaN  \n",
       "1                1.0  \n",
       "2                NaN  \n",
       "3                2.0  \n",
       "4                2.0  "
      ]
     },
     "execution_count": 41,
     "metadata": {},
     "output_type": "execute_result"
    }
   ],
   "source": [
    "nonnumericColumns = list(df.select_dtypes(include=['object']).columns)\n",
    "dateColumns = [c for c in nonnumericColumns if re.match('date|month|lastSeen',c)]\n",
    "groups = set(nonnumericColumns) -  set(dateColumns)\n",
    "# print(groups)\n",
    "# integer encoding\n",
    "for g in list(groups):\n",
    "    numerizeClass(g)\n",
    "\n",
    "# 2016-03-24 11:52:17\n",
    "for c in dateColumns:\n",
    "    # df[c].str.replace(\"-\",\"\").astype(int)\n",
    "    # df[\"Date\"] = pd.to_datetime(df[\"Date\"]).dt.strftime(\"%Y%m%d\")\n",
    "    df[c] = pd.to_datetime(df[c])\n",
    "df.head()\n"
   ]
  },
  {
   "cell_type": "markdown",
   "metadata": {},
   "source": [
    "## Nan data removal"
   ]
  },
  {
   "cell_type": "code",
   "execution_count": 42,
   "metadata": {
    "pycharm": {
     "is_executing": false
    }
   },
   "outputs": [
    {
     "data": {
      "text/plain": [
       "<matplotlib.axes._subplots.AxesSubplot at 0x1b69c2a8160>"
      ]
     },
     "execution_count": 42,
     "metadata": {},
     "output_type": "execute_result"
    },
    {
     "data": {
      "image/png": "[encoded data removed]",
      "text/plain": [
       "<Figure size 432x288 with 1 Axes>"
      ]
     },
     "metadata": {
      "needs_background": "light"
     },
     "output_type": "display_data"
    }
   ],
   "source": [
    "sns.heatmap(df.isnull(), yticklabels=False, cbar=False) "
   ]
  },
  {
   "cell_type": "code",
   "execution_count": 43,
   "metadata": {
    "pycharm": {
     "is_executing": false,
     "name": "#%%\n"
    }
   },
   "outputs": [
    {
     "data": {
      "text/plain": [
       "<matplotlib.axes._subplots.AxesSubplot at 0x1b69bf91438>"
      ]
     },
     "execution_count": 43,
     "metadata": {},
     "output_type": "execute_result"
    },
    {
     "data": {
      "image/png": "[encoded data removed]",
      "text/plain": [
       "<Figure size 432x288 with 1 Axes>"
      ]
     },
     "metadata": {
      "needs_background": "light"
     },
     "output_type": "display_data"
    }
   ],
   "source": [
    "#mazu radky obsahujici nan\n",
    "df.isnull().sum()\n",
    "df.dropna(inplace=True)\n",
    "# print(df.shape)\n",
    "sns.heatmap(df.isnull(), yticklabels=False, cbar=False)"
   ]
  },
  {
   "cell_type": "markdown",
   "metadata": {},
   "source": [
    "## Skewed data\n",
    "https://towardsdatascience.com/top-3-methods-for-handling-skewed-data-1334e0debf45"
   ]
  },
  {
   "cell_type": "code",
   "execution_count": 44,
   "metadata": {
    "pycharm": {
     "is_executing": false
    }
   },
   "outputs": [
    {
     "name": "stdout",
     "output_type": "stream",
     "text": [
      "Skew of offerType: is 255.41485858991055\n",
      "Skew of price: is 282.268049665252\n",
      "Skew of abtest: is 0.07731254614647835\n",
      "Skew of vehicleType: is 0.1219226713873071\n",
      "Skew of yearOfRegistration: is -1.365406119721914\n",
      "Skew of gearbox: is 1.260799889547236\n",
      "Skew of powerPS: is 72.82563833607354\n",
      "Skew of model: is 1.388092580155472\n",
      "Skew of kilometer: is -1.3759768338655631\n",
      "Skew of monthOfRegistration: is 0.07193676265504437\n",
      "Skew of fuelType: is 2.0392571197830076\n",
      "Skew of brand: is 1.3648796661420741\n",
      "Skew of notRepairedDamage: is -2.537094060047216\n"
     ]
    }
   ],
   "source": [
    "# value should be less then 0.05\n",
    "# print columns that are skewed\n",
    "for column in df:\n",
    "    try:\n",
    "        print(f\"Skew of {column}: is {df[column].skew()}\")\n",
    "    except Exception as err:\n",
    "        print(err)"
   ]
  },
  {
   "cell_type": "markdown",
   "metadata": {},
   "source": [
    "#### Sqrt transformation"
   ]
  },
  {
   "cell_type": "code",
   "execution_count": 45,
   "metadata": {
    "pycharm": {
     "is_executing": false
    }
   },
   "outputs": [
    {
     "name": "stdout",
     "output_type": "stream",
     "text": [
      "Skew of offerType: is 255.41485858991018\n",
      "Skew of price: is 0.8800026070813768\n",
      "Skew of abtest: is 0.07731254614647522\n",
      "Skew of vehicleType: is -0.7065167468567224\n",
      "Skew of yearOfRegistration: is -1.3906330344730589\n",
      "Skew of gearbox: is 1.2607998895472339\n",
      "Skew of powerPS: is -2.747476072976706\n",
      "Skew of model: is 0.0004499817171153846\n",
      "Skew of kilometer: is -2.2292203398116053\n",
      "Skew of monthOfRegistration: is -2.1955353990805833\n",
      "Skew of fuelType: is 0.9788514408703916\n",
      "Skew of brand: is -0.035546415397668285\n",
      "Skew of notRepairedDamage: is -2.5370940600472065\n"
     ]
    }
   ],
   "source": [
    "for column in df:\n",
    "    try:\n",
    "        df[column] = np.sqrt(df[column])\n",
    "        print(f\"Skew of {column}: is {np.sqrt(df[column]).skew()}\")\n",
    "    except Exception as err:\n",
    "        print(err)"
   ]
  },
  {
   "cell_type": "markdown",
   "metadata": {},
   "source": [
    "#### Box-con transformation"
   ]
  },
  {
   "cell_type": "code",
   "execution_count": 46,
   "metadata": {
    "pycharm": {
     "is_executing": false
    }
   },
   "outputs": [],
   "source": [
    "# # nefunguje... mozem pouzit rozne postupy na odstranenie nesumernosti dat??\n",
    "# from scipy import stats\n",
    "\n",
    "# for column in df:\n",
    "#     try:\n",
    "#         print(f\"Skew of {column}: is {pd.Series(stats.boxcox(df[column])[0]).skew()}\")\n",
    "#     except Exception as err:\n",
    "#         print(err)"
   ]
  },
  {
   "cell_type": "markdown",
   "metadata": {},
   "source": [
    "## Counts of differente columns"
   ]
  },
  {
   "cell_type": "code",
   "execution_count": 47,
   "metadata": {
    "pycharm": {
     "is_executing": false
    }
   },
   "outputs": [
    {
     "data": {
      "text/plain": [
       "Index(['offerType', 'price', 'abtest', 'vehicleType', 'yearOfRegistration',\n",
       "       'gearbox', 'powerPS', 'model', 'kilometer', 'monthOfRegistration',\n",
       "       'fuelType', 'brand', 'notRepairedDamage'],\n",
       "      dtype='object')"
      ]
     },
     "execution_count": 47,
     "metadata": {},
     "output_type": "execute_result"
    }
   ],
   "source": [
    "df.columns"
   ]
  },
  {
   "cell_type": "code",
   "execution_count": 48,
   "metadata": {
    "pycharm": {
     "is_executing": false
    }
   },
   "outputs": [
    {
     "name": "stderr",
     "output_type": "stream",
     "text": [
      "c:\\users\\annad\\documents\\projekty do školy\\carpriceregression\\venv\\lib\\site-packages\\seaborn\\categorical.py:3666: UserWarning: The `factorplot` function has been renamed to `catplot`. The original name will be removed in a future release. Please update your code. Note that the default `kind` in `factorplot` (`'point'`) has changed `'strip'` in `catplot`.\n",
      "  warnings.warn(msg)\n"
     ]
    },
    {
     "data": {
      "image/png": "[encoded data removed]",
      "text/plain": [
       "<Figure size 900x360 with 1 Axes>"
      ]
     },
     "metadata": {
      "needs_background": "light"
     },
     "output_type": "display_data"
    }
   ],
   "source": [
    "vegicleType = sns.factorplot(x='vehicleType', data=df , kind='count',aspect=2.5, order=pd.value_counts(df['vehicleType']).iloc[:40].index)\n",
    "vegicleType.savefig('countVehiclesByCategory.png')"
   ]
  },
  {
   "cell_type": "code",
   "execution_count": 49,
   "metadata": {
    "pycharm": {
     "is_executing": false
    }
   },
   "outputs": [
    {
     "data": {
      "image/png": "[encoded data removed]",
      "text/plain": [
       "<Figure size 1440x360 with 1 Axes>"
      ]
     },
     "metadata": {
      "needs_background": "light"
     },
     "output_type": "display_data"
    }
   ],
   "source": [
    "yearOfRegistration = sns.factorplot(x='yearOfRegistration', data=df , kind='count',aspect=4 ,order=pd.value_counts(df['yearOfRegistration']).iloc[:40].index)\n",
    "yearOfRegistration.savefig('countYearOfRegistrationByYear.png')"
   ]
  },
  {
   "cell_type": "code",
   "execution_count": 50,
   "metadata": {
    "pycharm": {
     "is_executing": false
    }
   },
   "outputs": [
    {
     "data": {
      "image/png": "[encoded data removed]",
      "text/plain": [
       "<Figure size 720x360 with 1 Axes>"
      ]
     },
     "metadata": {
      "needs_background": "light"
     },
     "output_type": "display_data"
    }
   ],
   "source": [
    "gearbox = sns.factorplot(x='gearbox', data=df , kind='count',aspect=2 ,order=pd.value_counts(df['gearbox']).iloc[:40].index)\n",
    "gearbox.savefig('countGearbox.png')"
   ]
  },
  {
   "cell_type": "code",
   "execution_count": 51,
   "metadata": {
    "pycharm": {
     "is_executing": false
    }
   },
   "outputs": [
    {
     "data": {
      "image/png": "[encoded data removed]",
      "text/plain": [
       "<Figure size 900x360 with 1 Axes>"
      ]
     },
     "metadata": {
      "needs_background": "light"
     },
     "output_type": "display_data"
    }
   ],
   "source": [
    "kilometer = sns.factorplot(x='kilometer', data=df , kind='count',aspect=2.5 ,order=pd.value_counts(df['kilometer']).iloc[:20].index)\n",
    "kilometer.savefig('countKilometer.png')"
   ]
  },
  {
   "cell_type": "code",
   "execution_count": 52,
   "metadata": {
    "pycharm": {
     "is_executing": false
    }
   },
   "outputs": [
    {
     "data": {
      "image/png": "[encoded data removed]",
      "text/plain": [
       "<Figure size 360x360 with 1 Axes>"
      ]
     },
     "metadata": {
      "needs_background": "light"
     },
     "output_type": "display_data"
    }
   ],
   "source": [
    "fuelType = sns.factorplot(x='fuelType', data=df , kind='count',aspect=1 ,order=pd.value_counts(df['fuelType']).iloc[:10].index)\n",
    "fuelType.savefig('countFuelType.png')"
   ]
  },
  {
   "cell_type": "code",
   "execution_count": 53,
   "metadata": {
    "pycharm": {
     "is_executing": false
    }
   },
   "outputs": [
    {
     "data": {
      "image/png": "[encoded data removed]",
      "text/plain": [
       "<Figure size 1260x360 with 1 Axes>"
      ]
     },
     "metadata": {
      "needs_background": "light"
     },
     "output_type": "display_data"
    }
   ],
   "source": [
    "brand = sns.factorplot(x='brand', data=df , kind='count',aspect=3.5 ,order=pd.value_counts(df['brand']).iloc[:20].index)\n",
    "brand.savefig('countBrand.png')"
   ]
  },
  {
   "cell_type": "code",
   "execution_count": 54,
   "metadata": {
    "pycharm": {
     "is_executing": false
    }
   },
   "outputs": [
    {
     "data": {
      "image/png": "[encoded data removed]",
      "text/plain": [
       "<Figure size 360x360 with 1 Axes>"
      ]
     },
     "metadata": {
      "needs_background": "light"
     },
     "output_type": "display_data"
    }
   ],
   "source": [
    "notRepairedDamage = sns.factorplot(x='notRepairedDamage', data=df , kind='count',aspect=1 ,order=pd.value_counts(df['notRepairedDamage']).iloc[:10].index)\n",
    "notRepairedDamage.savefig('countNotRepairedDamage.png')"
   ]
  },
  {
   "cell_type": "markdown",
   "metadata": {},
   "source": [
    "## Correlation heatmap, Pairplot, Histograms"
   ]
  },
  {
   "cell_type": "markdown",
   "metadata": {
    "pycharm": {
     "is_executing": false,
     "name": "#%%\n"
    }
   },
   "source": [
    "#korelace mezi fetures - nevypada to dobre\n",
    "plt.figure(figsize=(20,20))\n",
    "p=sns.heatmap(df.corr(), annot=True,cmap='RdYlGn',square=True)\n",
    "plt.savefig('corelace_bez_Nan_hodnot.png')"
   ]
  },
  {
   "cell_type": "markdown",
   "metadata": {
    "pycharm": {
     "is_executing": false,
     "name": "#%%\n"
    }
   },
   "source": [
    "smallerDF= df.loc[:100,:]\n",
    "plt.figure(figsize=(20,20))\n",
    "p=sns.pairplot(smallerDF)\n",
    "plt.savefig('pairplot.png')"
   ]
  },
  {
   "cell_type": "markdown",
   "metadata": {
    "pycharm": {
     "is_executing": false,
     "name": "#%%\n"
    }
   },
   "source": [
    "p = df.hist(figsize=(20,20),bins=150)\n",
    "plt.savefig('histogram.png')"
   ]
  },
  {
   "cell_type": "markdown",
   "metadata": {},
   "source": [
    "## Data Scaling"
   ]
  },
  {
   "cell_type": "code",
   "execution_count": 55,
   "metadata": {
    "pycharm": {
     "is_executing": false,
     "name": "#%%\n"
    }
   },
   "outputs": [
    {
     "data": {
      "text/html": [
       "<div>\n",
       "<style scoped>\n",
       "    .dataframe tbody tr th:only-of-type {\n",
       "        vertical-align: middle;\n",
       "    }\n",
       "\n",
       "    .dataframe tbody tr th {\n",
       "        vertical-align: top;\n",
       "    }\n",
       "\n",
       "    .dataframe thead th {\n",
       "        text-align: right;\n",
       "    }\n",
       "</style>\n",
       "<table border=\"1\" class=\"dataframe\">\n",
       "  <thead>\n",
       "    <tr style=\"text-align: right;\">\n",
       "      <th></th>\n",
       "      <th>offerType</th>\n",
       "      <th>price</th>\n",
       "      <th>abtest</th>\n",
       "      <th>vehicleType</th>\n",
       "      <th>yearOfRegistration</th>\n",
       "      <th>gearbox</th>\n",
       "      <th>powerPS</th>\n",
       "      <th>model</th>\n",
       "      <th>kilometer</th>\n",
       "      <th>monthOfRegistration</th>\n",
       "      <th>fuelType</th>\n",
       "      <th>brand</th>\n",
       "      <th>notRepairedDamage</th>\n",
       "    </tr>\n",
       "  </thead>\n",
       "  <tbody>\n",
       "    <tr>\n",
       "      <th>3</th>\n",
       "      <td>1.0</td>\n",
       "      <td>38.729833</td>\n",
       "      <td>1.0</td>\n",
       "      <td>-0.721472</td>\n",
       "      <td>-0.353535</td>\n",
       "      <td>1.0</td>\n",
       "      <td>-0.585297</td>\n",
       "      <td>-1.392323</td>\n",
       "      <td>0.600989</td>\n",
       "      <td>2.449490</td>\n",
       "      <td>-0.702731</td>\n",
       "      <td>-1.293544</td>\n",
       "      <td>1.414214</td>\n",
       "    </tr>\n",
       "    <tr>\n",
       "      <th>4</th>\n",
       "      <td>1.0</td>\n",
       "      <td>60.000000</td>\n",
       "      <td>1.0</td>\n",
       "      <td>-0.721472</td>\n",
       "      <td>0.719853</td>\n",
       "      <td>1.0</td>\n",
       "      <td>-0.687225</td>\n",
       "      <td>-1.188236</td>\n",
       "      <td>-0.644546</td>\n",
       "      <td>2.645751</td>\n",
       "      <td>1.196025</td>\n",
       "      <td>-0.513876</td>\n",
       "      <td>1.414214</td>\n",
       "    </tr>\n",
       "    <tr>\n",
       "      <th>5</th>\n",
       "      <td>1.0</td>\n",
       "      <td>25.495098</td>\n",
       "      <td>1.0</td>\n",
       "      <td>-0.120446</td>\n",
       "      <td>-1.275077</td>\n",
       "      <td>1.0</td>\n",
       "      <td>-0.170460</td>\n",
       "      <td>-1.113535</td>\n",
       "      <td>0.600989</td>\n",
       "      <td>3.162278</td>\n",
       "      <td>-0.702731</td>\n",
       "      <td>-0.329821</td>\n",
       "      <td>1.000000</td>\n",
       "    </tr>\n",
       "    <tr>\n",
       "      <th>6</th>\n",
       "      <td>1.0</td>\n",
       "      <td>46.904158</td>\n",
       "      <td>1.0</td>\n",
       "      <td>0.409069</td>\n",
       "      <td>0.106718</td>\n",
       "      <td>1.0</td>\n",
       "      <td>-0.072230</td>\n",
       "      <td>-1.047722</td>\n",
       "      <td>0.600989</td>\n",
       "      <td>2.828427</td>\n",
       "      <td>-0.702731</td>\n",
       "      <td>-0.163423</td>\n",
       "      <td>1.414214</td>\n",
       "    </tr>\n",
       "    <tr>\n",
       "      <th>7</th>\n",
       "      <td>1.0</td>\n",
       "      <td>0.000000</td>\n",
       "      <td>1.0</td>\n",
       "      <td>-0.120446</td>\n",
       "      <td>-3.585013</td>\n",
       "      <td>1.0</td>\n",
       "      <td>-1.043351</td>\n",
       "      <td>-0.988222</td>\n",
       "      <td>-2.071302</td>\n",
       "      <td>2.645751</td>\n",
       "      <td>-0.702731</td>\n",
       "      <td>-1.293544</td>\n",
       "      <td>1.414214</td>\n",
       "    </tr>\n",
       "  </tbody>\n",
       "</table>\n",
       "</div>"
      ],
      "text/plain": [
       "   offerType      price  abtest  vehicleType  yearOfRegistration  gearbox  \\\n",
       "3        1.0  38.729833     1.0    -0.721472           -0.353535      1.0   \n",
       "4        1.0  60.000000     1.0    -0.721472            0.719853      1.0   \n",
       "5        1.0  25.495098     1.0    -0.120446           -1.275077      1.0   \n",
       "6        1.0  46.904158     1.0     0.409069            0.106718      1.0   \n",
       "7        1.0   0.000000     1.0    -0.120446           -3.585013      1.0   \n",
       "\n",
       "    powerPS     model  kilometer  monthOfRegistration  fuelType     brand  \\\n",
       "3 -0.585297 -1.392323   0.600989             2.449490 -0.702731 -1.293544   \n",
       "4 -0.687225 -1.188236  -0.644546             2.645751  1.196025 -0.513876   \n",
       "5 -0.170460 -1.113535   0.600989             3.162278 -0.702731 -0.329821   \n",
       "6 -0.072230 -1.047722   0.600989             2.828427 -0.702731 -0.163423   \n",
       "7 -1.043351 -0.988222  -2.071302             2.645751 -0.702731 -1.293544   \n",
       "\n",
       "   notRepairedDamage  \n",
       "3           1.414214  \n",
       "4           1.414214  \n",
       "5           1.000000  \n",
       "6           1.414214  \n",
       "7           1.414214  "
      ]
     },
     "execution_count": 55,
     "metadata": {},
     "output_type": "execute_result"
    }
   ],
   "source": [
    "from sklearn.preprocessing import StandardScaler\n",
    "sc = StandardScaler()\n",
    "scaled = pd.DataFrame(sc.fit_transform(df[['brand','fuelType','kilometer','model','powerPS','vehicleType','yearOfRegistration']]),\n",
    "                      columns=['brand','fuelType','kilometer','model','powerPS','vehicleType','yearOfRegistration'],\n",
    "                      index=df.index)\n",
    "scaled.head()\n",
    "clean_df = df.copy(deep=True)\n",
    "clean_df[['brand','fuelType','kilometer','model','powerPS','vehicleType','yearOfRegistration']] = scaled[['brand','fuelType','kilometer','model','powerPS','vehicleType','yearOfRegistration']]\n",
    "clean_df.head()\n",
    "# co s monthOfRegistration dateCreated postalCode lastSeen ??\n"
   ]
  },
  {
   "cell_type": "markdown",
   "metadata": {},
   "source": [
    "#### MinaMaxScaler"
   ]
  },
  {
   "cell_type": "code",
   "execution_count": 56,
   "metadata": {
    "pycharm": {
     "is_executing": false
    }
   },
   "outputs": [
    {
     "data": {
      "text/html": [
       "<div>\n",
       "<style scoped>\n",
       "    .dataframe tbody tr th:only-of-type {\n",
       "        vertical-align: middle;\n",
       "    }\n",
       "\n",
       "    .dataframe tbody tr th {\n",
       "        vertical-align: top;\n",
       "    }\n",
       "\n",
       "    .dataframe thead th {\n",
       "        text-align: right;\n",
       "    }\n",
       "</style>\n",
       "<table border=\"1\" class=\"dataframe\">\n",
       "  <thead>\n",
       "    <tr style=\"text-align: right;\">\n",
       "      <th></th>\n",
       "      <th>offerType</th>\n",
       "      <th>price</th>\n",
       "      <th>abtest</th>\n",
       "      <th>vehicleType</th>\n",
       "      <th>yearOfRegistration</th>\n",
       "      <th>gearbox</th>\n",
       "      <th>powerPS</th>\n",
       "      <th>model</th>\n",
       "      <th>kilometer</th>\n",
       "      <th>monthOfRegistration</th>\n",
       "      <th>fuelType</th>\n",
       "      <th>brand</th>\n",
       "      <th>notRepairedDamage</th>\n",
       "    </tr>\n",
       "  </thead>\n",
       "  <tbody>\n",
       "    <tr>\n",
       "      <th>3</th>\n",
       "      <td>1.0</td>\n",
       "      <td>38.729833</td>\n",
       "      <td>1.0</td>\n",
       "      <td>0.400372</td>\n",
       "      <td>0.844399</td>\n",
       "      <td>1.0</td>\n",
       "      <td>0.061237</td>\n",
       "      <td>0.000000</td>\n",
       "      <td>1.000000</td>\n",
       "      <td>2.449490</td>\n",
       "      <td>0.000000</td>\n",
       "      <td>0.000000</td>\n",
       "      <td>1.414214</td>\n",
       "    </tr>\n",
       "    <tr>\n",
       "      <th>4</th>\n",
       "      <td>1.0</td>\n",
       "      <td>60.000000</td>\n",
       "      <td>1.0</td>\n",
       "      <td>0.400372</td>\n",
       "      <td>0.908550</td>\n",
       "      <td>1.0</td>\n",
       "      <td>0.058737</td>\n",
       "      <td>0.049320</td>\n",
       "      <td>0.724252</td>\n",
       "      <td>2.645751</td>\n",
       "      <td>0.251687</td>\n",
       "      <td>0.187809</td>\n",
       "      <td>1.414214</td>\n",
       "    </tr>\n",
       "    <tr>\n",
       "      <th>5</th>\n",
       "      <td>1.0</td>\n",
       "      <td>25.495098</td>\n",
       "      <td>1.0</td>\n",
       "      <td>0.546918</td>\n",
       "      <td>0.789324</td>\n",
       "      <td>1.0</td>\n",
       "      <td>0.071414</td>\n",
       "      <td>0.067372</td>\n",
       "      <td>1.000000</td>\n",
       "      <td>3.162278</td>\n",
       "      <td>0.000000</td>\n",
       "      <td>0.232145</td>\n",
       "      <td>1.000000</td>\n",
       "    </tr>\n",
       "    <tr>\n",
       "      <th>6</th>\n",
       "      <td>1.0</td>\n",
       "      <td>46.904158</td>\n",
       "      <td>1.0</td>\n",
       "      <td>0.676028</td>\n",
       "      <td>0.871906</td>\n",
       "      <td>1.0</td>\n",
       "      <td>0.073824</td>\n",
       "      <td>0.083276</td>\n",
       "      <td>1.000000</td>\n",
       "      <td>2.828427</td>\n",
       "      <td>0.000000</td>\n",
       "      <td>0.272227</td>\n",
       "      <td>1.414214</td>\n",
       "    </tr>\n",
       "    <tr>\n",
       "      <th>7</th>\n",
       "      <td>1.0</td>\n",
       "      <td>0.000000</td>\n",
       "      <td>1.0</td>\n",
       "      <td>0.546918</td>\n",
       "      <td>0.651271</td>\n",
       "      <td>1.0</td>\n",
       "      <td>0.050000</td>\n",
       "      <td>0.097655</td>\n",
       "      <td>0.408384</td>\n",
       "      <td>2.645751</td>\n",
       "      <td>0.000000</td>\n",
       "      <td>0.000000</td>\n",
       "      <td>1.414214</td>\n",
       "    </tr>\n",
       "  </tbody>\n",
       "</table>\n",
       "</div>"
      ],
      "text/plain": [
       "   offerType      price  abtest  vehicleType  yearOfRegistration  gearbox  \\\n",
       "3        1.0  38.729833     1.0     0.400372            0.844399      1.0   \n",
       "4        1.0  60.000000     1.0     0.400372            0.908550      1.0   \n",
       "5        1.0  25.495098     1.0     0.546918            0.789324      1.0   \n",
       "6        1.0  46.904158     1.0     0.676028            0.871906      1.0   \n",
       "7        1.0   0.000000     1.0     0.546918            0.651271      1.0   \n",
       "\n",
       "    powerPS     model  kilometer  monthOfRegistration  fuelType     brand  \\\n",
       "3  0.061237  0.000000   1.000000             2.449490  0.000000  0.000000   \n",
       "4  0.058737  0.049320   0.724252             2.645751  0.251687  0.187809   \n",
       "5  0.071414  0.067372   1.000000             3.162278  0.000000  0.232145   \n",
       "6  0.073824  0.083276   1.000000             2.828427  0.000000  0.272227   \n",
       "7  0.050000  0.097655   0.408384             2.645751  0.000000  0.000000   \n",
       "\n",
       "   notRepairedDamage  \n",
       "3           1.414214  \n",
       "4           1.414214  \n",
       "5           1.000000  \n",
       "6           1.414214  \n",
       "7           1.414214  "
      ]
     },
     "execution_count": 56,
     "metadata": {},
     "output_type": "execute_result"
    }
   ],
   "source": [
    "from sklearn.preprocessing import MinMaxScaler\n",
    "sc = MinMaxScaler()\n",
    "minMax = pd.DataFrame(sc.fit_transform(df[['brand','fuelType','kilometer','model','powerPS','vehicleType','yearOfRegistration']]),\n",
    "                      columns=['brand','fuelType','kilometer','model','powerPS','vehicleType','yearOfRegistration'],\n",
    "                      index=df.index)\n",
    "clean_df_minmax = df.copy(deep=True)\n",
    "clean_df_minmax[['brand','fuelType','kilometer','model','powerPS','vehicleType','yearOfRegistration']] = minMax[['brand','fuelType','kilometer','model','powerPS','vehicleType','yearOfRegistration']]\n",
    "clean_df_minmax.head()"
   ]
  },
  {
   "cell_type": "markdown",
   "metadata": {},
   "source": [
    "#### RobustScaler"
   ]
  },
  {
   "cell_type": "code",
   "execution_count": 57,
   "metadata": {
    "pycharm": {
     "is_executing": false
    },
    "scrolled": true
   },
   "outputs": [
    {
     "data": {
      "text/html": [
       "<div>\n",
       "<style scoped>\n",
       "    .dataframe tbody tr th:only-of-type {\n",
       "        vertical-align: middle;\n",
       "    }\n",
       "\n",
       "    .dataframe tbody tr th {\n",
       "        vertical-align: top;\n",
       "    }\n",
       "\n",
       "    .dataframe thead th {\n",
       "        text-align: right;\n",
       "    }\n",
       "</style>\n",
       "<table border=\"1\" class=\"dataframe\">\n",
       "  <thead>\n",
       "    <tr style=\"text-align: right;\">\n",
       "      <th></th>\n",
       "      <th>offerType</th>\n",
       "      <th>price</th>\n",
       "      <th>abtest</th>\n",
       "      <th>vehicleType</th>\n",
       "      <th>yearOfRegistration</th>\n",
       "      <th>gearbox</th>\n",
       "      <th>powerPS</th>\n",
       "      <th>model</th>\n",
       "      <th>kilometer</th>\n",
       "      <th>monthOfRegistration</th>\n",
       "      <th>fuelType</th>\n",
       "      <th>brand</th>\n",
       "      <th>notRepairedDamage</th>\n",
       "    </tr>\n",
       "  </thead>\n",
       "  <tbody>\n",
       "    <tr>\n",
       "      <th>3</th>\n",
       "      <td>1.0</td>\n",
       "      <td>38.729833</td>\n",
       "      <td>1.0</td>\n",
       "      <td>-0.373480</td>\n",
       "      <td>-0.333416</td>\n",
       "      <td>1.0</td>\n",
       "      <td>-0.617760</td>\n",
       "      <td>-0.791469</td>\n",
       "      <td>0.000000</td>\n",
       "      <td>2.449490</td>\n",
       "      <td>0.0</td>\n",
       "      <td>-0.802849</td>\n",
       "      <td>1.414214</td>\n",
       "    </tr>\n",
       "    <tr>\n",
       "      <th>4</th>\n",
       "      <td>1.0</td>\n",
       "      <td>60.000000</td>\n",
       "      <td>1.0</td>\n",
       "      <td>-0.373480</td>\n",
       "      <td>0.444167</td>\n",
       "      <td>1.0</td>\n",
       "      <td>-0.721291</td>\n",
       "      <td>-0.662060</td>\n",
       "      <td>-1.228333</td>\n",
       "      <td>2.645751</td>\n",
       "      <td>1.0</td>\n",
       "      <td>-0.315018</td>\n",
       "      <td>1.414214</td>\n",
       "    </tr>\n",
       "    <tr>\n",
       "      <th>5</th>\n",
       "      <td>1.0</td>\n",
       "      <td>25.495098</td>\n",
       "      <td>1.0</td>\n",
       "      <td>0.000000</td>\n",
       "      <td>-1.001000</td>\n",
       "      <td>1.0</td>\n",
       "      <td>-0.196395</td>\n",
       "      <td>-0.614692</td>\n",
       "      <td>0.000000</td>\n",
       "      <td>3.162278</td>\n",
       "      <td>0.0</td>\n",
       "      <td>-0.199856</td>\n",
       "      <td>1.000000</td>\n",
       "    </tr>\n",
       "    <tr>\n",
       "      <th>6</th>\n",
       "      <td>1.0</td>\n",
       "      <td>46.904158</td>\n",
       "      <td>1.0</td>\n",
       "      <td>0.329043</td>\n",
       "      <td>0.000000</td>\n",
       "      <td>1.0</td>\n",
       "      <td>-0.096620</td>\n",
       "      <td>-0.572961</td>\n",
       "      <td>0.000000</td>\n",
       "      <td>2.828427</td>\n",
       "      <td>0.0</td>\n",
       "      <td>-0.095743</td>\n",
       "      <td>1.414214</td>\n",
       "    </tr>\n",
       "    <tr>\n",
       "      <th>7</th>\n",
       "      <td>1.0</td>\n",
       "      <td>0.000000</td>\n",
       "      <td>1.0</td>\n",
       "      <td>0.000000</td>\n",
       "      <td>-2.674363</td>\n",
       "      <td>1.0</td>\n",
       "      <td>-1.083021</td>\n",
       "      <td>-0.535233</td>\n",
       "      <td>-2.635385</td>\n",
       "      <td>2.645751</td>\n",
       "      <td>0.0</td>\n",
       "      <td>-0.802849</td>\n",
       "      <td>1.414214</td>\n",
       "    </tr>\n",
       "  </tbody>\n",
       "</table>\n",
       "</div>"
      ],
      "text/plain": [
       "   offerType      price  abtest  vehicleType  yearOfRegistration  gearbox  \\\n",
       "3        1.0  38.729833     1.0    -0.373480           -0.333416      1.0   \n",
       "4        1.0  60.000000     1.0    -0.373480            0.444167      1.0   \n",
       "5        1.0  25.495098     1.0     0.000000           -1.001000      1.0   \n",
       "6        1.0  46.904158     1.0     0.329043            0.000000      1.0   \n",
       "7        1.0   0.000000     1.0     0.000000           -2.674363      1.0   \n",
       "\n",
       "    powerPS     model  kilometer  monthOfRegistration  fuelType     brand  \\\n",
       "3 -0.617760 -0.791469   0.000000             2.449490       0.0 -0.802849   \n",
       "4 -0.721291 -0.662060  -1.228333             2.645751       1.0 -0.315018   \n",
       "5 -0.196395 -0.614692   0.000000             3.162278       0.0 -0.199856   \n",
       "6 -0.096620 -0.572961   0.000000             2.828427       0.0 -0.095743   \n",
       "7 -1.083021 -0.535233  -2.635385             2.645751       0.0 -0.802849   \n",
       "\n",
       "   notRepairedDamage  \n",
       "3           1.414214  \n",
       "4           1.414214  \n",
       "5           1.000000  \n",
       "6           1.414214  \n",
       "7           1.414214  "
      ]
     },
     "execution_count": 57,
     "metadata": {},
     "output_type": "execute_result"
    }
   ],
   "source": [
    "from sklearn.preprocessing import RobustScaler\n",
    "rs = RobustScaler()\n",
    "robust = pd.DataFrame(rs.fit_transform(df[['brand','fuelType','kilometer','model','powerPS','vehicleType','yearOfRegistration']]),\n",
    "                      columns=['brand','fuelType','kilometer','model','powerPS','vehicleType','yearOfRegistration'],\n",
    "                      index=df.index)\n",
    "clean_df_robust = df.copy(deep=True)\n",
    "clean_df_robust[['brand','fuelType','kilometer','model','powerPS','vehicleType','yearOfRegistration']] = robust[['brand','fuelType','kilometer','model','powerPS','vehicleType','yearOfRegistration']]\n",
    "clean_df_robust.head()\n"
   ]
  },
  {
   "cell_type": "markdown",
   "metadata": {},
   "source": [
    "### Data split"
   ]
  },
  {
   "cell_type": "code",
   "execution_count": 59,
   "metadata": {
    "pycharm": {
     "is_executing": false
    }
   },
   "outputs": [],
   "source": [
    "# Linear regression first shot\n",
    "x_mean = clean_df.drop([\"price\"],axis=1)\n",
    "y_mean = clean_df.price\n",
    "x_minmax =  clean_df_minmax.drop([\"price\"],axis=1)\n",
    "y_minmax = clean_df_minmax.price\n",
    "x_robust = clean_df_robust.drop([\"price\"],axis=1)\n",
    "y_robust = clean_df_robust.price\n",
    "\n",
    "\n",
    "\n",
    "from sklearn.model_selection import train_test_split\n",
    "train_x, test_x, train_y, test_y = train_test_split(x_robust, y_robust,random_state = 2,test_size=0.3)"
   ]
  },
  {
   "cell_type": "markdown",
   "metadata": {
    "pycharm": {
     "name": "#%% md\n"
    }
   },
   "source": [
    "### Linear Regression\n"
   ]
  },
  {
   "cell_type": "code",
   "execution_count": null,
   "metadata": {
    "pycharm": {
     "is_executing": false,
     "name": "#%%\n"
    }
   },
   "outputs": [],
   "source": [
    "from sklearn.metrics import mean_absolute_error\n",
    "from sklearn.metrics import mean_squared_error\n",
    "from sklearn.metrics import r2_score\n",
    "from sklearn import linear_model\n",
    "\n",
    "regr = linear_model.LinearRegression()\n",
    "regr.fit(train_x,train_y)\n",
    "y_pred = regr.predict(test_x)\n",
    "print(\"accuracy: \"+ str(regr.score(test_x,test_y)*100) + \"%\")\n",
    "print(\"Mean absolute error: {}\".format(mean_absolute_error(test_y,y_pred)))\n",
    "print(\"Mean squared error: {}\".format(mean_squared_error(test_y,y_pred)))\n",
    "R2 = r2_score(test_y,y_pred)\n",
    "print('R Squared: {}'.format(R2))\n",
    "n=test_x.shape[0]\n",
    "p=test_x.shape[1] - 1\n",
    "\n",
    "\n",
    "adj_rsquared = 1 - (1 - R2) * ((n - 1)/(n-p-1))\n",
    "print('Adjusted R Squared: {}'.format(adj_rsquared))\n",
    "\n",
    "\n"
   ]
  },
  {
   "cell_type": "markdown",
   "metadata": {},
   "source": [
    "Mean scalling\n",
    "accuracy: 44.10046560207075%\n",
    "Mean absolute error: 17.866052435959766\n",
    "Mean squared error: 1297.679751735954\n",
    "R Squared: 0.4410046560207075\n",
    "Adjusted R Squared: 0.44092610030325263\n",
    "\n",
    "Minmax scalling (to bude to stejny jako standar scalling)\n",
    "accuracy: 44.100465602070784%\n",
    "Mean absolute error: 17.866052435959723\n",
    "Mean squared error: 1297.679751735953\n",
    "R Squared: 0.4410046560207078\n",
    "Adjusted R Squared: 0.44092610030325297\n",
    "\n",
    "Robust scalling\n",
    "accuracy: 44.10046560207075%\n",
    "Mean absolute error: 17.866052435959624\n",
    "Mean squared error: 1297.679751735954\n",
    "R Squared: 0.4410046560207075\n",
    "Adjusted R Squared: 0.44092610030325263\n",
    "\n"
   ]
  },
  {
   "cell_type": "markdown",
   "metadata": {},
   "source": [
    "## Lasso regresion"
   ]
  },
  {
   "cell_type": "code",
   "execution_count": null,
   "metadata": {},
   "outputs": [],
   "source": [
    "las_reg = linear_model.Lasso()\n",
    "las_reg.fit(train_x,train_y)\n",
    "y_pred = las_reg.predict(test_x)\n",
    "print(\"accuracy: \"+ str(las_reg.score(test_x,test_y)*100) + \"%\")\n",
    "print(\"Mean absolute error: {}\".format(mean_absolute_error(test_y,y_pred)))\n",
    "print(\"Mean squared error: {}\".format(mean_squared_error(test_y,y_pred)))\n",
    "R2 = r2_score(test_y,y_pred)\n",
    "print('R Squared: {}'.format(R2))\n",
    "n=test_x.shape[0]\n",
    "p=test_x.shape[1] - 1\n",
    "\n",
    "adj_rsquared = 1 - (1 - R2) * ((n - 1)/(n-p-1))\n",
    "print('Adjusted R Squared: {}'.format(adj_rsquared))"
   ]
  },
  {
   "cell_type": "markdown",
   "metadata": {},
   "source": [
    "## Ridge regresion"
   ]
  },
  {
   "cell_type": "code",
   "execution_count": null,
   "metadata": {},
   "outputs": [],
   "source": [
    "rig_reg = linear_model.Ridge()\n",
    "rig_reg.fit(train_x,train_y)\n",
    "y_pred = rig_reg.predict(test_x)\n",
    "print(\"accuracy: \"+ str(rig_reg.score(test_x,test_y)*100) + \"%\")\n",
    "print(\"Mean absolute error: {}\".format(mean_absolute_error(test_y,y_pred)))\n",
    "print(\"Mean squared error: {}\".format(mean_squared_error(test_y,y_pred)))\n",
    "R2 = r2_score(test_y,y_pred)\n",
    "print('R Squared: {}'.format(R2))\n",
    "n=test_x.shape[0]\n",
    "p=test_x.shape[1] - 1\n",
    "\n",
    "adj_rsquared = 1 - (1 - R2) * ((n - 1)/(n-p-1))\n",
    "print('Adjusted R Squared: {}'.format(adj_rsquared))"
   ]
  },
  {
   "cell_type": "code",
   "execution_count": 61,
   "metadata": {
    "pycharm": {
     "is_executing": false
    }
   },
   "outputs": [
    {
     "data": {
      "text/html": [
       "<div>\n",
       "<style scoped>\n",
       "    .dataframe tbody tr th:only-of-type {\n",
       "        vertical-align: middle;\n",
       "    }\n",
       "\n",
       "    .dataframe tbody tr th {\n",
       "        vertical-align: top;\n",
       "    }\n",
       "\n",
       "    .dataframe thead th {\n",
       "        text-align: right;\n",
       "    }\n",
       "</style>\n",
       "<table border=\"1\" class=\"dataframe\">\n",
       "  <thead>\n",
       "    <tr style=\"text-align: right;\">\n",
       "      <th></th>\n",
       "      <th>offerType</th>\n",
       "      <th>price</th>\n",
       "      <th>abtest</th>\n",
       "      <th>vehicleType</th>\n",
       "      <th>yearOfRegistration</th>\n",
       "      <th>gearbox</th>\n",
       "      <th>powerPS</th>\n",
       "      <th>model</th>\n",
       "      <th>kilometer</th>\n",
       "      <th>monthOfRegistration</th>\n",
       "      <th>fuelType</th>\n",
       "      <th>brand</th>\n",
       "      <th>notRepairedDamage</th>\n",
       "    </tr>\n",
       "  </thead>\n",
       "  <tbody>\n",
       "    <tr>\n",
       "      <th>3</th>\n",
       "      <td>1.0</td>\n",
       "      <td>38.729833</td>\n",
       "      <td>1.0</td>\n",
       "      <td>-0.721472</td>\n",
       "      <td>-0.353535</td>\n",
       "      <td>1.0</td>\n",
       "      <td>-0.585297</td>\n",
       "      <td>-1.392323</td>\n",
       "      <td>0.600989</td>\n",
       "      <td>2.449490</td>\n",
       "      <td>-0.702731</td>\n",
       "      <td>-1.293544</td>\n",
       "      <td>1.414214</td>\n",
       "    </tr>\n",
       "    <tr>\n",
       "      <th>4</th>\n",
       "      <td>1.0</td>\n",
       "      <td>60.000000</td>\n",
       "      <td>1.0</td>\n",
       "      <td>-0.721472</td>\n",
       "      <td>0.719853</td>\n",
       "      <td>1.0</td>\n",
       "      <td>-0.687225</td>\n",
       "      <td>-1.188236</td>\n",
       "      <td>-0.644546</td>\n",
       "      <td>2.645751</td>\n",
       "      <td>1.196025</td>\n",
       "      <td>-0.513876</td>\n",
       "      <td>1.414214</td>\n",
       "    </tr>\n",
       "    <tr>\n",
       "      <th>5</th>\n",
       "      <td>1.0</td>\n",
       "      <td>25.495098</td>\n",
       "      <td>1.0</td>\n",
       "      <td>-0.120446</td>\n",
       "      <td>-1.275077</td>\n",
       "      <td>1.0</td>\n",
       "      <td>-0.170460</td>\n",
       "      <td>-1.113535</td>\n",
       "      <td>0.600989</td>\n",
       "      <td>3.162278</td>\n",
       "      <td>-0.702731</td>\n",
       "      <td>-0.329821</td>\n",
       "      <td>1.000000</td>\n",
       "    </tr>\n",
       "    <tr>\n",
       "      <th>6</th>\n",
       "      <td>1.0</td>\n",
       "      <td>46.904158</td>\n",
       "      <td>1.0</td>\n",
       "      <td>0.409069</td>\n",
       "      <td>0.106718</td>\n",
       "      <td>1.0</td>\n",
       "      <td>-0.072230</td>\n",
       "      <td>-1.047722</td>\n",
       "      <td>0.600989</td>\n",
       "      <td>2.828427</td>\n",
       "      <td>-0.702731</td>\n",
       "      <td>-0.163423</td>\n",
       "      <td>1.414214</td>\n",
       "    </tr>\n",
       "    <tr>\n",
       "      <th>7</th>\n",
       "      <td>1.0</td>\n",
       "      <td>0.000000</td>\n",
       "      <td>1.0</td>\n",
       "      <td>-0.120446</td>\n",
       "      <td>-3.585013</td>\n",
       "      <td>1.0</td>\n",
       "      <td>-1.043351</td>\n",
       "      <td>-0.988222</td>\n",
       "      <td>-2.071302</td>\n",
       "      <td>2.645751</td>\n",
       "      <td>-0.702731</td>\n",
       "      <td>-1.293544</td>\n",
       "      <td>1.414214</td>\n",
       "    </tr>\n",
       "  </tbody>\n",
       "</table>\n",
       "</div>"
      ],
      "text/plain": [
       "   offerType      price  abtest  vehicleType  yearOfRegistration  gearbox  \\\n",
       "3        1.0  38.729833     1.0    -0.721472           -0.353535      1.0   \n",
       "4        1.0  60.000000     1.0    -0.721472            0.719853      1.0   \n",
       "5        1.0  25.495098     1.0    -0.120446           -1.275077      1.0   \n",
       "6        1.0  46.904158     1.0     0.409069            0.106718      1.0   \n",
       "7        1.0   0.000000     1.0    -0.120446           -3.585013      1.0   \n",
       "\n",
       "    powerPS     model  kilometer  monthOfRegistration  fuelType     brand  \\\n",
       "3 -0.585297 -1.392323   0.600989             2.449490 -0.702731 -1.293544   \n",
       "4 -0.687225 -1.188236  -0.644546             2.645751  1.196025 -0.513876   \n",
       "5 -0.170460 -1.113535   0.600989             3.162278 -0.702731 -0.329821   \n",
       "6 -0.072230 -1.047722   0.600989             2.828427 -0.702731 -0.163423   \n",
       "7 -1.043351 -0.988222  -2.071302             2.645751 -0.702731 -1.293544   \n",
       "\n",
       "   notRepairedDamage  \n",
       "3           1.414214  \n",
       "4           1.414214  \n",
       "5           1.000000  \n",
       "6           1.414214  \n",
       "7           1.414214  "
      ]
     },
     "execution_count": 61,
     "metadata": {},
     "output_type": "execute_result"
    }
   ],
   "source": [
    "l = list(range(0,len(clean_df.columns)))\n",
    "clean_df.head()"
   ]
  },
  {
   "cell_type": "code",
   "execution_count": 62,
   "metadata": {},
   "outputs": [
    {
     "data": {
      "text/html": [
       "<table class=\"simpletable\">\n",
       "<caption>OLS Regression Results</caption>\n",
       "<tr>\n",
       "  <th>Dep. Variable:</th>          <td>price</td>      <th>  R-squared:         </th>  <td>   0.324</td>  \n",
       "</tr>\n",
       "<tr>\n",
       "  <th>Model:</th>                   <td>OLS</td>       <th>  Adj. R-squared:    </th>  <td>   0.324</td>  \n",
       "</tr>\n",
       "<tr>\n",
       "  <th>Method:</th>             <td>Least Squares</td>  <th>  F-statistic:       </th>  <td>1.043e+04</td> \n",
       "</tr>\n",
       "<tr>\n",
       "  <th>Date:</th>             <td>Sat, 13 Jun 2020</td> <th>  Prob (F-statistic):</th>   <td>  0.00</td>   \n",
       "</tr>\n",
       "<tr>\n",
       "  <th>Time:</th>                 <td>16:41:04</td>     <th>  Log-Likelihood:    </th> <td>-1.3731e+06</td>\n",
       "</tr>\n",
       "<tr>\n",
       "  <th>No. Observations:</th>      <td>260956</td>      <th>  AIC:               </th>  <td>2.746e+06</td> \n",
       "</tr>\n",
       "<tr>\n",
       "  <th>Df Residuals:</th>          <td>260943</td>      <th>  BIC:               </th>  <td>2.746e+06</td> \n",
       "</tr>\n",
       "<tr>\n",
       "  <th>Df Model:</th>              <td>    12</td>      <th>                     </th>      <td> </td>     \n",
       "</tr>\n",
       "<tr>\n",
       "  <th>Covariance Type:</th>      <td>nonrobust</td>    <th>                     </th>      <td> </td>     \n",
       "</tr>\n",
       "</table>\n",
       "<table class=\"simpletable\">\n",
       "<tr>\n",
       "    <td></td>       <th>coef</th>     <th>std err</th>      <th>t</th>      <th>P>|t|</th>  <th>[0.025</th>    <th>0.975]</th>  \n",
       "</tr>\n",
       "<tr>\n",
       "  <th>const</th> <td>   31.8630</td> <td>   56.340</td> <td>    0.566</td> <td> 0.572</td> <td>  -78.562</td> <td>  142.288</td>\n",
       "</tr>\n",
       "<tr>\n",
       "  <th>x1</th>    <td>  -58.4592</td> <td>   56.323</td> <td>   -1.038</td> <td> 0.299</td> <td> -168.852</td> <td>   51.933</td>\n",
       "</tr>\n",
       "<tr>\n",
       "  <th>x2</th>    <td>   -0.0614</td> <td>    0.441</td> <td>   -0.139</td> <td> 0.889</td> <td>   -0.926</td> <td>    0.804</td>\n",
       "</tr>\n",
       "<tr>\n",
       "  <th>x3</th>    <td>   -2.5491</td> <td>    0.096</td> <td>  -26.691</td> <td> 0.000</td> <td>   -2.736</td> <td>   -2.362</td>\n",
       "</tr>\n",
       "<tr>\n",
       "  <th>x4</th>    <td>   10.6161</td> <td>    0.108</td> <td>   98.520</td> <td> 0.000</td> <td>   10.405</td> <td>   10.827</td>\n",
       "</tr>\n",
       "<tr>\n",
       "  <th>x5</th>    <td>   33.3946</td> <td>    0.559</td> <td>   59.749</td> <td> 0.000</td> <td>   32.299</td> <td>   34.490</td>\n",
       "</tr>\n",
       "<tr>\n",
       "  <th>x6</th>    <td>   14.3354</td> <td>    0.100</td> <td>  143.649</td> <td> 0.000</td> <td>   14.140</td> <td>   14.531</td>\n",
       "</tr>\n",
       "<tr>\n",
       "  <th>x7</th>    <td>    2.1946</td> <td>    0.100</td> <td>   21.887</td> <td> 0.000</td> <td>    1.998</td> <td>    2.391</td>\n",
       "</tr>\n",
       "<tr>\n",
       "  <th>x8</th>    <td>  -14.7440</td> <td>    0.102</td> <td> -144.073</td> <td> 0.000</td> <td>  -14.945</td> <td>  -14.543</td>\n",
       "</tr>\n",
       "<tr>\n",
       "  <th>x9</th>    <td>    0.2586</td> <td>    0.112</td> <td>    2.305</td> <td> 0.021</td> <td>    0.039</td> <td>    0.479</td>\n",
       "</tr>\n",
       "<tr>\n",
       "  <th>x10</th>   <td>    5.4750</td> <td>    0.101</td> <td>   54.002</td> <td> 0.000</td> <td>    5.276</td> <td>    5.674</td>\n",
       "</tr>\n",
       "<tr>\n",
       "  <th>x11</th>   <td>   -3.5144</td> <td>    0.100</td> <td>  -35.020</td> <td> 0.000</td> <td>   -3.711</td> <td>   -3.318</td>\n",
       "</tr>\n",
       "<tr>\n",
       "  <th>x12</th>   <td>   43.8524</td> <td>    0.724</td> <td>   60.535</td> <td> 0.000</td> <td>   42.433</td> <td>   45.272</td>\n",
       "</tr>\n",
       "</table>\n",
       "<table class=\"simpletable\">\n",
       "<tr>\n",
       "  <th>Omnibus:</th>       <td>1095728.924</td> <th>  Durbin-Watson:     </th>     <td>   2.001</td>     \n",
       "</tr>\n",
       "<tr>\n",
       "  <th>Prob(Omnibus):</th>   <td> 0.000</td>    <th>  Jarque-Bera (JB):  </th> <td>6141149528703.878</td>\n",
       "</tr>\n",
       "<tr>\n",
       "  <th>Skew:</th>            <td>119.305</td>   <th>  Prob(JB):          </th>     <td>    0.00</td>     \n",
       "</tr>\n",
       "<tr>\n",
       "  <th>Kurtosis:</th>       <td>23767.294</td>  <th>  Cond. No.          </th>     <td>3.07e+03</td>     \n",
       "</tr>\n",
       "</table><br/><br/>Warnings:<br/>[1] Standard Errors assume that the covariance matrix of the errors is correctly specified.<br/>[2] The condition number is large, 3.07e+03. This might indicate that there are<br/>strong multicollinearity or other numerical problems."
      ],
      "text/plain": [
       "<class 'statsmodels.iolib.summary.Summary'>\n",
       "\"\"\"\n",
       "                            OLS Regression Results                            \n",
       "==============================================================================\n",
       "Dep. Variable:                  price   R-squared:                       0.324\n",
       "Model:                            OLS   Adj. R-squared:                  0.324\n",
       "Method:                 Least Squares   F-statistic:                 1.043e+04\n",
       "Date:                Sat, 13 Jun 2020   Prob (F-statistic):               0.00\n",
       "Time:                        16:41:04   Log-Likelihood:            -1.3731e+06\n",
       "No. Observations:              260956   AIC:                         2.746e+06\n",
       "Df Residuals:                  260943   BIC:                         2.746e+06\n",
       "Df Model:                          12                                         \n",
       "Covariance Type:            nonrobust                                         \n",
       "==============================================================================\n",
       "                 coef    std err          t      P>|t|      [0.025      0.975]\n",
       "------------------------------------------------------------------------------\n",
       "const         31.8630     56.340      0.566      0.572     -78.562     142.288\n",
       "x1           -58.4592     56.323     -1.038      0.299    -168.852      51.933\n",
       "x2            -0.0614      0.441     -0.139      0.889      -0.926       0.804\n",
       "x3            -2.5491      0.096    -26.691      0.000      -2.736      -2.362\n",
       "x4            10.6161      0.108     98.520      0.000      10.405      10.827\n",
       "x5            33.3946      0.559     59.749      0.000      32.299      34.490\n",
       "x6            14.3354      0.100    143.649      0.000      14.140      14.531\n",
       "x7             2.1946      0.100     21.887      0.000       1.998       2.391\n",
       "x8           -14.7440      0.102   -144.073      0.000     -14.945     -14.543\n",
       "x9             0.2586      0.112      2.305      0.021       0.039       0.479\n",
       "x10            5.4750      0.101     54.002      0.000       5.276       5.674\n",
       "x11           -3.5144      0.100    -35.020      0.000      -3.711      -3.318\n",
       "x12           43.8524      0.724     60.535      0.000      42.433      45.272\n",
       "==============================================================================\n",
       "Omnibus:                  1095728.924   Durbin-Watson:                   2.001\n",
       "Prob(Omnibus):                  0.000   Jarque-Bera (JB):    6141149528703.878\n",
       "Skew:                         119.305   Prob(JB):                         0.00\n",
       "Kurtosis:                   23767.294   Cond. No.                     3.07e+03\n",
       "==============================================================================\n",
       "\n",
       "Warnings:\n",
       "[1] Standard Errors assume that the covariance matrix of the errors is correctly specified.\n",
       "[2] The condition number is large, 3.07e+03. This might indicate that there are\n",
       "strong multicollinearity or other numerical problems.\n",
       "\"\"\""
      ]
     },
     "execution_count": 62,
     "metadata": {},
     "output_type": "execute_result"
    }
   ],
   "source": [
    "import statsmodels.api as smf\n",
    "X = np.append(arr = np.ones((clean_df.shape[0], 1)).astype(int), values = clean_df.drop(['price'],axis=1).values, axis = 1)\n",
    "X_opt = X[:, l]\n",
    "regressor_ols = smf.OLS(endog = clean_df.price, exog = X_opt.astype(float)).fit()\n",
    "regressor_ols.summary()"
   ]
  },
  {
   "cell_type": "code",
   "execution_count": 66,
   "metadata": {},
   "outputs": [
    {
     "data": {
      "text/plain": [
       "array([[-31.90787861,   0.81477022],\n",
       "       [-10.61883029,   0.58484301],\n",
       "       [-45.14555028,   0.51581068],\n",
       "       ...,\n",
       "       [-36.00666702,  -0.73385432],\n",
       "       [ 25.27886223,   1.97583947],\n",
       "       [ 99.6665963 ,  -1.12168823]])"
      ]
     },
     "execution_count": 66,
     "metadata": {},
     "output_type": "execute_result"
    }
   ],
   "source": [
    "from sklearn.decomposition import PCA\n",
    "pca = PCA(n_components=2)\n",
    "x_pca =pca.fit_transform(clean_df)\n",
    "x_pca"
   ]
  },
  {
   "cell_type": "code",
   "execution_count": null,
   "metadata": {},
   "outputs": [],
   "source": []
  }
 ],
 "metadata": {
  "kernelspec": {
   "display_name": "Python 3",
   "language": "python",
   "name": "python3"
  },
  "language_info": {
   "codemirror_mode": {
    "name": "ipython",
    "version": 3
   },
   "file_extension": ".py",
   "mimetype": "text/x-python",
   "name": "python",
   "nbconvert_exporter": "python",
   "pygments_lexer": "ipython3",
   "version": "3.7.3"
  },
  "pycharm": {
   "stem_cell": {
    "cell_type": "raw",
    "metadata": {
     "collapsed": false
    },
    "source": []
   }
  }
 },
 "nbformat": 4,
 "nbformat_minor": 1
}
