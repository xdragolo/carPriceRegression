{
 "cells": [
  {
   "cell_type": "code",
   "execution_count": 13,
   "outputs": [],
   "source": [
    "def numerizeClass(column):\n",
    "    unq = df[column].unique()\n",
    "    cnt = 0\n",
    "    for u in unq:\n",
    "        # idx = df[df[column] == u].index.tolist()\n",
    "        df[column].replace(u,cnt, inplace = True)\n",
    "        # print(df[column])\n",
    "        cnt +=1\n",
    "    "
   ],
   "metadata": {
    "collapsed": false,
    "pycharm": {
     "name": "#%%\n",
     "is_executing": false
    }
   }
  },
  {
   "cell_type": "markdown",
   "source": [
    "# Data introduction and vectorizing"
   ],
   "metadata": {
    "collapsed": false
   }
  },
  {
   "cell_type": "code",
   "execution_count": 23,
   "outputs": [
    {
     "name": "stdout",
     "text": [
      "<class 'pandas.core.frame.DataFrame'>\nRangeIndex: 371528 entries, 0 to 371527\nData columns (total 20 columns):\n #   Column               Non-Null Count   Dtype \n---  ------               --------------   ----- \n 0   dateCrawled          371528 non-null  object\n 1   name                 371528 non-null  object\n 2   seller               371528 non-null  object\n 3   offerType            371528 non-null  object\n 4   price                371528 non-null  int64 \n 5   abtest               371528 non-null  object\n 6   vehicleType          333659 non-null  object\n 7   yearOfRegistration   371528 non-null  int64 \n 8   gearbox              351319 non-null  object\n 9   powerPS              371528 non-null  int64 \n 10  model                351044 non-null  object\n 11  kilometer            371528 non-null  int64 \n 12  monthOfRegistration  371528 non-null  int64 \n 13  fuelType             338142 non-null  object\n 14  brand                371528 non-null  object\n 15  notRepairedDamage    299468 non-null  object\n 16  dateCreated          371528 non-null  object\n 17  nrOfPictures         371528 non-null  int64 \n 18  postalCode           371528 non-null  int64 \n 19  lastSeen             371528 non-null  object\ndtypes: int64(7), object(13)\nmemory usage: 56.7+ MB\nNone\n",
      "<class 'pandas.core.frame.DataFrame'>\nRangeIndex: 371528 entries, 0 to 371527\nData columns (total 20 columns):\n #   Column               Non-Null Count   Dtype         \n---  ------               --------------   -----         \n 0   dateCrawled          371528 non-null  datetime64[ns]\n 1   name                 371528 non-null  object        \n 2   seller               371528 non-null  int64         \n 3   offerType            371528 non-null  int64         \n 4   price                371528 non-null  int64         \n 5   abtest               371528 non-null  int64         \n 6   vehicleType          371528 non-null  int64         \n 7   yearOfRegistration   371528 non-null  int64         \n 8   gearbox              371528 non-null  float64       \n 9   powerPS              371528 non-null  int64         \n 10  model                371528 non-null  int64         \n 11  kilometer            371528 non-null  int64         \n 12  monthOfRegistration  371528 non-null  int64         \n 13  fuelType             371528 non-null  int64         \n 14  brand                371528 non-null  int64         \n 15  notRepairedDamage    371528 non-null  int64         \n 16  dateCreated          371528 non-null  datetime64[ns]\n 17  nrOfPictures         371528 non-null  int64         \n 18  postalCode           371528 non-null  int64         \n 19  lastSeen             371528 non-null  datetime64[ns]\ndtypes: datetime64[ns](3), float64(1), int64(15), object(1)\nmemory usage: 56.7+ MB\nNone\n"
     ],
     "output_type": "stream"
    }
   ],
   "source": [
    "import pandas as pd\n",
    "import re\n",
    "import numpy as np\n",
    "# from numerizeClass import NumerizeClass\n",
    "df = pd.read_csv('autos.csv',header=0,encoding='iso8859_2')\n",
    "print(df.info())\n",
    "# Nonnumeric Columns\n",
    "# nonNumericColumns = ['name','seller','offerType','abtest','vehicleType','gearbox']\n",
    "nonnumericColumns = list(df.select_dtypes(include=['object']).columns)\n",
    "dateColumns = [c for c in nonnumericColumns if re.match('date|month|lastSeen',c)]\n",
    "groups = set(nonnumericColumns) -  set(dateColumns)\n",
    "groups.remove('name')\n",
    "# print(groups)\n",
    "for g in list(groups):\n",
    "    numerizeClass(g)\n",
    "\n",
    "# 2016-03-24 11:52:17\n",
    "for c in dateColumns:\n",
    "    # df[c].str.replace(\"-\",\"\").astype(int)\n",
    "    # df[\"Date\"] = pd.to_datetime(df[\"Date\"]).dt.strftime(\"%Y%m%d\")\n",
    "    df[c] = pd.to_datetime(df[c])\n",
    "print(df.info())\n"
   ],
   "metadata": {
    "collapsed": false,
    "pycharm": {
     "name": "#%%\n",
     "is_executing": false
    }
   }
  },
  {
   "cell_type": "code",
   "execution_count": 21,
   "outputs": [],
   "source": [
    "\n"
   ],
   "metadata": {
    "collapsed": false,
    "pycharm": {
     "name": "#%%\n",
     "is_executing": false
    }
   }
  }
 ],
 "metadata": {
  "language_info": {
   "codemirror_mode": {
    "name": "ipython",
    "version": 2
   },
   "file_extension": ".py",
   "mimetype": "text/x-python",
   "name": "python",
   "nbconvert_exporter": "python",
   "pygments_lexer": "ipython2",
   "version": "2.7.6"
  },
  "kernelspec": {
   "name": "python3",
   "language": "python",
   "display_name": "Python 3"
  },
  "pycharm": {
   "stem_cell": {
    "cell_type": "raw",
    "source": [],
    "metadata": {
     "collapsed": false
    }
   }
  }
 },
 "nbformat": 4,
 "nbformat_minor": 0
}